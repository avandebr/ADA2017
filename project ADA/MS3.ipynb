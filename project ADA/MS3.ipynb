{
 "cells": [
  {
   "cell_type": "markdown",
   "metadata": {},
   "source": [
    "# Recommender system"
   ]
  },
  {
   "cell_type": "markdown",
   "metadata": {},
   "source": [
    "FILTER BY CONSTRAINTS (kcal, cuisine, time, vegan, ...)  \n",
    "CREATE MEALS  \n",
    "FILTRER LES USERS ET LES RECETTES EN FONCTION DU NOMBRE DE SAVE  \n",
    "=> PUIS ENREGISTRER LES BAILS QUI SERVENT DANS DES FICHIERS !!!!!"
   ]
  },
  {
   "cell_type": "markdown",
   "metadata": {},
   "source": [
    "DESCRIPTION"
   ]
  },
  {
   "cell_type": "code",
   "execution_count": 1,
   "metadata": {
    "collapsed": true
   },
   "outputs": [],
   "source": [
    "import pandas as pd\n",
    "import numpy as np"
   ]
  },
  {
   "cell_type": "code",
   "execution_count": 123,
   "metadata": {
    "collapsed": false,
    "scrolled": true
   },
   "outputs": [
    {
     "data": {
      "text/html": [
       "<div>\n",
       "<style scoped>\n",
       "    .dataframe tbody tr th:only-of-type {\n",
       "        vertical-align: middle;\n",
       "    }\n",
       "\n",
       "    .dataframe tbody tr th {\n",
       "        vertical-align: top;\n",
       "    }\n",
       "\n",
       "    .dataframe thead th {\n",
       "        text-align: right;\n",
       "    }\n",
       "</style>\n",
       "<table border=\"1\" class=\"dataframe\">\n",
       "  <thead>\n",
       "    <tr style=\"text-align: right;\">\n",
       "      <th></th>\n",
       "      <th>user</th>\n",
       "      <th>recipe_id</th>\n",
       "    </tr>\n",
       "  </thead>\n",
       "  <tbody>\n",
       "    <tr>\n",
       "      <th>0</th>\n",
       "      <td>SapnaPadte</td>\n",
       "      <td>ROASTED-BEET_-PEAR-_-WALNUT-SALAD-1895162</td>\n",
       "    </tr>\n",
       "    <tr>\n",
       "      <th>1</th>\n",
       "      <td>SapnaPadte</td>\n",
       "      <td>Farro-Salad-with-Roasted-Mushrooms-and-Parmesa...</td>\n",
       "    </tr>\n",
       "    <tr>\n",
       "      <th>2</th>\n",
       "      <td>SapnaPadte</td>\n",
       "      <td>Braised-Short-Ribs-2019358</td>\n",
       "    </tr>\n",
       "    <tr>\n",
       "      <th>3</th>\n",
       "      <td>SapnaPadte</td>\n",
       "      <td>Mushroom-Risotto-1571924</td>\n",
       "    </tr>\n",
       "    <tr>\n",
       "      <th>4</th>\n",
       "      <td>SapnaPadte</td>\n",
       "      <td>Crockpot-Chicken-and-Stuffing-1900892</td>\n",
       "    </tr>\n",
       "    <tr>\n",
       "      <th>5</th>\n",
       "      <td>SapnaPadte</td>\n",
       "      <td>Swiss-Chard-And-Sweet-Potato-Gratin-1818910</td>\n",
       "    </tr>\n",
       "    <tr>\n",
       "      <th>6</th>\n",
       "      <td>SapnaPadte</td>\n",
       "      <td>Glazed-Tofu-with-Bok-Choy-1459225</td>\n",
       "    </tr>\n",
       "    <tr>\n",
       "      <th>7</th>\n",
       "      <td>SapnaPadte</td>\n",
       "      <td>Ricotta-and-Oyster-Mushroom-Lasagna-1159281</td>\n",
       "    </tr>\n",
       "    <tr>\n",
       "      <th>8</th>\n",
       "      <td>SapnaPadte</td>\n",
       "      <td>Cilantro-Lime-Coconut-Rice-1086839</td>\n",
       "    </tr>\n",
       "    <tr>\n",
       "      <th>9</th>\n",
       "      <td>SapnaPadte</td>\n",
       "      <td>Garlic-Roasted-Asparagus-1053963</td>\n",
       "    </tr>\n",
       "  </tbody>\n",
       "</table>\n",
       "</div>"
      ],
      "text/plain": [
       "         user                                          recipe_id\n",
       "0  SapnaPadte          ROASTED-BEET_-PEAR-_-WALNUT-SALAD-1895162\n",
       "1  SapnaPadte  Farro-Salad-with-Roasted-Mushrooms-and-Parmesa...\n",
       "2  SapnaPadte                         Braised-Short-Ribs-2019358\n",
       "3  SapnaPadte                           Mushroom-Risotto-1571924\n",
       "4  SapnaPadte              Crockpot-Chicken-and-Stuffing-1900892\n",
       "5  SapnaPadte        Swiss-Chard-And-Sweet-Potato-Gratin-1818910\n",
       "6  SapnaPadte                  Glazed-Tofu-with-Bok-Choy-1459225\n",
       "7  SapnaPadte        Ricotta-and-Oyster-Mushroom-Lasagna-1159281\n",
       "8  SapnaPadte                 Cilantro-Lime-Coconut-Rice-1086839\n",
       "9  SapnaPadte                   Garlic-Roasted-Asparagus-1053963"
      ]
     },
     "execution_count": 123,
     "metadata": {},
     "output_type": "execute_result"
    }
   ],
   "source": [
    "saved_recipes = pd.read_json('saved_recipes.json')\n",
    "saved_recipes = saved_recipes[['user', 'recipe_id']]\n",
    "saved_recipes.head(10)"
   ]
  },
  {
   "cell_type": "code",
   "execution_count": 124,
   "metadata": {
    "collapsed": false
   },
   "outputs": [
    {
     "name": "stdout",
     "output_type": "stream",
     "text": [
      "We have data from 4046 users who saved in total 109264 recipes making an average of 27 recipes saved per user \n"
     ]
    }
   ],
   "source": [
    "all_recipes = list(saved_recipes.recipe_id.unique())\n",
    "all_users = list(saved_recipes.user.unique())\n",
    "print('We have data from {} users who saved in total {} recipes '.format(len(all_users), len(saved_recipes)) +\n",
    "      'making an average of {} recipes saved per user '.format(round(len(saved_recipes)/len(all_users), 2)))"
   ]
  },
  {
   "cell_type": "markdown",
   "metadata": {},
   "source": [
    "For better performance in terms of speed and results, we only keep users who saved at least 10 recipes and recipes which have been saved at least 3 times to reduce the size of the dataset in order to keep only items of interest"
   ]
  },
  {
   "cell_type": "code",
   "execution_count": 125,
   "metadata": {
    "collapsed": false
   },
   "outputs": [
    {
     "name": "stdout",
     "output_type": "stream",
     "text": [
      "From this, it now remains 3261 users and 6642 recipes\n"
     ]
    }
   ],
   "source": [
    "recipes_cp = all_recipes.copy()\n",
    "for r in recipes_cp:\n",
    "    n_users_who_saved_recipe = len(saved_recipes[saved_recipes.recipe_id == r])\n",
    "    if(n_users_who_saved_recipe < 3):\n",
    "        all_recipes.remove(r)\n",
    "users_cp = all_users.copy()\n",
    "for u in users_cp:\n",
    "    n_saved_recipes_for_user = len(saved_recipes[saved_recipes.user == u])\n",
    "    if(n_saved_recipes_for_user < 20):\n",
    "        all_users.remove(u)\n",
    "print('From this, it now remains {} users and {} recipes'.format(len(all_users), len(all_recipes)))"
   ]
  },
  {
   "cell_type": "code",
   "execution_count": 415,
   "metadata": {
    "collapsed": false
   },
   "outputs": [],
   "source": [
    "pd.DataFrame(all_recipes).to_csv('all_recipes.csv')"
   ]
  },
  {
   "cell_type": "markdown",
   "metadata": {},
   "source": [
    "We save this dataframe to use it later on without having to do all the computations."
   ]
  },
  {
   "cell_type": "code",
   "execution_count": 126,
   "metadata": {
    "collapsed": false
   },
   "outputs": [],
   "source": [
    "to_drop = []\n",
    "for i in range(len(saved_recipes)):\n",
    "    u = saved_recipes.loc[i].user\n",
    "    r = saved_recipes.loc[i].recipe_id\n",
    "    if(not u in all_users or not r in all_recipes):\n",
    "        to_drop.append(i)\n",
    "        \n",
    "to_save = saved_recipes.drop(to_drop)\n",
    "to_save.reset_index()\n",
    "to_save.to_csv('useful_saved_recipes.csv')"
   ]
  },
  {
   "cell_type": "code",
   "execution_count": 283,
   "metadata": {
    "collapsed": false
   },
   "outputs": [],
   "source": [
    "saved_recipes = pd.read_csv('useful_saved_recipes.csv')[['user', 'recipe_id']]\n",
    "all_recipes = list(saved_recipes.recipe_id.unique())\n",
    "all_users = list(saved_recipes.user.unique())"
   ]
  },
  {
   "cell_type": "markdown",
   "metadata": {},
   "source": [
    "Now we transform this data into a dataframe one containing 0 or 1 depending on if the user has saved or not the recipe."
   ]
  },
  {
   "cell_type": "code",
   "execution_count": 285,
   "metadata": {
    "collapsed": true
   },
   "outputs": [],
   "source": [
    "saved_recipes_for_users = dict()\n",
    "for u in all_users:\n",
    "    saved_recipes_for_users[u] = list(saved_recipes[saved_recipes.user == u].recipe_id)"
   ]
  },
  {
   "cell_type": "code",
   "execution_count": 286,
   "metadata": {
    "collapsed": false
   },
   "outputs": [],
   "source": [
    "matrix_data = np.zeros((len(all_users), len(all_recipes)))\n",
    "for i in range(len(all_users)):\n",
    "    u = all_users[i]\n",
    "    for j in range(len(all_recipes)):\n",
    "        r = all_recipes[j]\n",
    "        if(r in saved_recipes_for_users[u]):\n",
    "            matrix_data[i, j] = 1\n",
    "        "
   ]
  },
  {
   "cell_type": "code",
   "execution_count": 287,
   "metadata": {
    "collapsed": false,
    "scrolled": true
   },
   "outputs": [],
   "source": [
    "saved = pd.DataFrame(matrix_data, index = all_users, columns = all_recipes)"
   ]
  },
  {
   "cell_type": "markdown",
   "metadata": {},
   "source": [
    "To save or reload the data matrix"
   ]
  },
  {
   "cell_type": "code",
   "execution_count": 288,
   "metadata": {
    "collapsed": true
   },
   "outputs": [],
   "source": [
    "saved.to_csv('saved_matrix.csv')"
   ]
  },
  {
   "cell_type": "code",
   "execution_count": 289,
   "metadata": {
    "collapsed": false
   },
   "outputs": [],
   "source": [
    "saved = pd.read_csv('saved_matrix.csv', index_col='Unnamed: 0')"
   ]
  },
  {
   "cell_type": "markdown",
   "metadata": {},
   "source": [
    "Now we can make our reommendations based on the saved recipes. "
   ]
  },
  {
   "cell_type": "code",
   "execution_count": 290,
   "metadata": {
    "collapsed": true
   },
   "outputs": [],
   "source": [
    "from sklearn.metrics.pairwise import cosine_similarity\n",
    "from scipy import sparse\n",
    "\n",
    "# reload the data\n",
    "saved = pd.read_csv('saved_matrix.csv', index_col='Unnamed: 0')\n",
    "\n",
    "# As a first step we normalize the user vectors to unit vectors.\n",
    "magnitude = np.sqrt(saved.sum(axis=1)) #np.sqrt(np.square(saved).sum(axis=1)) but 0^2=0 and 1^2=1\n",
    "saved = saved.divide(magnitude, axis='index')\n",
    "\n",
    "# remove nan values\n",
    "saved[np.isnan(saved)] = 0\n",
    "\n",
    "def calculate_similarity(data_items):\n",
    "    \"\"\"Calculate the column-wise cosine similarity for a sparse\n",
    "    matrix. Return a new dataframe matrix with similarities.\n",
    "    \"\"\"\n",
    "    data_sparse = sparse.csr_matrix(data_items)\n",
    "    similarities = cosine_similarity(data_sparse.transpose())\n",
    "    sim = pd.DataFrame(data=similarities, index=data_items.columns, columns=data_items.columns)\n",
    "    return sim"
   ]
  },
  {
   "cell_type": "markdown",
   "metadata": {},
   "source": [
    "We first make item-item recommendations"
   ]
  },
  {
   "cell_type": "code",
   "execution_count": 291,
   "metadata": {
    "collapsed": false
   },
   "outputs": [
    {
     "name": "stdout",
     "output_type": "stream",
     "text": [
      "recipes most similar to Mushroom-Risotto-1571924: \n",
      "\n",
      "Mushroom-Risotto-1571924                                   1.000000\n",
      "Farro-Salad-with-Roasted-Mushrooms-and-Parmesan-1542254    0.339569\n",
      "POTATO-GNOCCHI-WITH-MUSHROOMS-AND-FETA-1422882             0.289354\n",
      "Bacon-Cheddar-Scallion-Scones-677696                       0.283927\n",
      "Greek-Moussaka-2119898                                     0.267662\n",
      "Name: Mushroom-Risotto-1571924, dtype: float64\n"
     ]
    }
   ],
   "source": [
    "# Build the similarity matrix\n",
    "data_matrix = calculate_similarity(saved)\n",
    "\n",
    "print('recipes most similar to Mushroom-Risotto-1571924: \\n')\n",
    "print(data_matrix.loc['Mushroom-Risotto-1571924'].nlargest(5))"
   ]
  },
  {
   "cell_type": "markdown",
   "metadata": {},
   "source": [
    "Finally we compute user-item recommendation"
   ]
  },
  {
   "cell_type": "code",
   "execution_count": 292,
   "metadata": {
    "collapsed": false
   },
   "outputs": [
    {
     "name": "stdout",
     "output_type": "stream",
     "text": [
      "Saved items by user Axel:\n",
      "['Spaghetti-alla-Carbonara-902641' 'Classic-Swiss-Fondue-My-Recipes'\n",
      " 'Lemon-Madeleines-Martha-Stewart-195085'\n",
      " 'Tarte-Tatin-An-Easy-Classic-French-Dessert-141...'\n",
      " 'Cherry-Clafouti-513493' 'Chocolate-mousse_-french-style-357262'\n",
      " 'French-Baguette-Sandwich-374433' 'Croque-Monsieur-Martha-Stewart-227846'\n",
      " 'Creme-Fraiche-Chicken-Allrecipes'\n",
      " 'Delicious-Grilled-Hamburgers-Allrecipes'\n",
      " 'Chicken_-Spinach-and-Artichoke-Calzones-1019821' 'My-Tiramisu-571297'\n",
      " 'Greek-Salad-1398313' 'Beef-taco-skillet-348744'\n",
      " 'paghetti-and-Meatballs-Martha-Stewart'\n",
      " 'Quick-Barbecue-Chicken-My-Recipes' 'Sweet-Potato-Fries-Martha-Stewart'\n",
      " 'Homemade-Guacamole-1058667' 'Four-Cheese-Pizza-MyRecipes-245856'\n",
      " 'Quiche-Lorraine-Ii-Allrecipes' 'French-Crepes-1258186']\n",
      "\n",
      "Recommendations for user Axel:\n",
      "Mandu-Recipe-_Korean-Dumplings_-496808                        0.007605\n",
      "Pan-Seared-Ahi-Tuna-1192074                                   0.006090\n",
      "Pasta-with-Braised-Broccoli-and-Tomato-Serious-Eats-200249    0.005565\n",
      "Sizzling-Flounder-1076534                                     0.005395\n",
      "Garlic-Butter-Shrimp-Pasta-1034638                            0.005282\n",
      "Monkey-Bread-471447                                           0.005250\n",
      "Breakfast-Biscuit-Buns-1741971                                0.005143\n",
      "Slow-Cooked-Sticky-Asian-Lamb-973146                          0.004807\n",
      "Crock-Pot-Cheeseburger-Soup-1354998                           0.004283\n",
      "Thai-Stir-Fried-Noodles-_Pad-See-Ew_-596040                   0.004203\n",
      "dtype: float64\n"
     ]
    }
   ],
   "source": [
    "user = 'Axel' # my user ID that I created for demo purposes\n",
    "\n",
    "def recommend_for_user(user):\n",
    "    \n",
    "    # Users likes for all items as a sparse vector.\n",
    "    user_rating_vector = saved.loc[user]\n",
    "    \n",
    "    # Get the recipes the user has liked.\n",
    "    known_user_likes = user_rating_vector[user_rating_vector > 0].index.values\n",
    "\n",
    "    # Calculate the score.\n",
    "    score = data_matrix.dot(user_rating_vector).div(data_matrix.sum(axis=1))\n",
    "\n",
    "    # Remove the known likes from the recommendation.\n",
    "    score = score.drop(known_user_likes)    \n",
    "    \n",
    "    return known_user_likes, score\n",
    "\n",
    "# Print the known saved and the top 10 recommendations.\n",
    "known_user_likes, score = recommend_for_user(user)\n",
    "print('Saved items by user {}:'.format(user))\n",
    "print(known_user_likes)\n",
    "print()\n",
    "print('Recommendations for user {}:'.format(user))\n",
    "print(score.nlargest(10))"
   ]
  },
  {
   "cell_type": "markdown",
   "metadata": {},
   "source": [
    "# Interactive recommender"
   ]
  },
  {
   "cell_type": "code",
   "execution_count": 293,
   "metadata": {
    "collapsed": true
   },
   "outputs": [],
   "source": [
    "from ipywidgets import widgets"
   ]
  },
  {
   "cell_type": "markdown",
   "metadata": {},
   "source": [
    "Now, We will make the recommendations based on given constraints chosen by the users. These constraints can be nutrition, time, course or cuisine type constraints. For this we will use two dataframes. The first one contains the recipes which will help us to make recommendations based on cuisine, time, or even ingredients constraints. The last one contains nutrition informations which will also help us to make recommendations based this time on nutrional constraints."
   ]
  },
  {
   "cell_type": "code",
   "execution_count": 294,
   "metadata": {
    "collapsed": false
   },
   "outputs": [
    {
     "data": {
      "text/html": [
       "<div>\n",
       "<style scoped>\n",
       "    .dataframe tbody tr th:only-of-type {\n",
       "        vertical-align: middle;\n",
       "    }\n",
       "\n",
       "    .dataframe tbody tr th {\n",
       "        vertical-align: top;\n",
       "    }\n",
       "\n",
       "    .dataframe thead th {\n",
       "        text-align: right;\n",
       "    }\n",
       "</style>\n",
       "<table border=\"1\" class=\"dataframe\">\n",
       "  <thead>\n",
       "    <tr style=\"text-align: right;\">\n",
       "      <th></th>\n",
       "      <th>recipe_id</th>\n",
       "      <th>name</th>\n",
       "      <th>totalTime</th>\n",
       "      <th>course</th>\n",
       "      <th>cuisine</th>\n",
       "      <th>ingredients</th>\n",
       "    </tr>\n",
       "  </thead>\n",
       "  <tbody>\n",
       "    <tr>\n",
       "      <th>0</th>\n",
       "      <td>Mushroom-risotto-352492</td>\n",
       "      <td>Mushroom Risotto</td>\n",
       "      <td>1800.0</td>\n",
       "      <td>Side Dishes</td>\n",
       "      <td>Italian</td>\n",
       "      <td>['2 cups Baby Bella mushrooms, sliced', '2 cup...</td>\n",
       "    </tr>\n",
       "    <tr>\n",
       "      <th>1</th>\n",
       "      <td>Filipino-bbq-pork-skewers-352163</td>\n",
       "      <td>Filipino BBQ Pork Skewers</td>\n",
       "      <td>2400.0</td>\n",
       "      <td>Main Dishes</td>\n",
       "      <td>Barbecue</td>\n",
       "      <td>['2.5 lb pork country style ribs, all fat trim...</td>\n",
       "    </tr>\n",
       "    <tr>\n",
       "      <th>2</th>\n",
       "      <td>Mushroom-and-Roasted-Garlic-Risotto-525026</td>\n",
       "      <td>Mushroom and Roasted Garlic Risotto</td>\n",
       "      <td>5100.0</td>\n",
       "      <td>Main Dishes</td>\n",
       "      <td>Italian</td>\n",
       "      <td>['2 whole garlic heads', '2 tablespoons plus 2...</td>\n",
       "    </tr>\n",
       "    <tr>\n",
       "      <th>3</th>\n",
       "      <td>Gratin-Dauphinois-_scalloped-Potatoes-With-Che...</td>\n",
       "      <td>Gratin Dauphinois (Scalloped Potatoes with Che...</td>\n",
       "      <td>3300.0</td>\n",
       "      <td>Side Dishes</td>\n",
       "      <td>French</td>\n",
       "      <td>['1 garlic clove, halved', 'Cooking spray', '6...</td>\n",
       "    </tr>\n",
       "    <tr>\n",
       "      <th>4</th>\n",
       "      <td>Delicious-Grilled-Hamburgers-Allrecipes</td>\n",
       "      <td>Delicious Grilled Hamburgers</td>\n",
       "      <td>900.0</td>\n",
       "      <td>Main Dishes</td>\n",
       "      <td>Barbecue</td>\n",
       "      <td>['1 pound lean ground beef', '1 tablespoon Wor...</td>\n",
       "    </tr>\n",
       "  </tbody>\n",
       "</table>\n",
       "</div>"
      ],
      "text/plain": [
       "                                           recipe_id  \\\n",
       "0                            Mushroom-risotto-352492   \n",
       "1                   Filipino-bbq-pork-skewers-352163   \n",
       "2         Mushroom-and-Roasted-Garlic-Risotto-525026   \n",
       "3  Gratin-Dauphinois-_scalloped-Potatoes-With-Che...   \n",
       "4            Delicious-Grilled-Hamburgers-Allrecipes   \n",
       "\n",
       "                                                name  totalTime       course  \\\n",
       "0                                   Mushroom Risotto     1800.0  Side Dishes   \n",
       "1                          Filipino BBQ Pork Skewers     2400.0  Main Dishes   \n",
       "2                Mushroom and Roasted Garlic Risotto     5100.0  Main Dishes   \n",
       "3  Gratin Dauphinois (Scalloped Potatoes with Che...     3300.0  Side Dishes   \n",
       "4                       Delicious Grilled Hamburgers      900.0  Main Dishes   \n",
       "\n",
       "    cuisine                                        ingredients  \n",
       "0   Italian  ['2 cups Baby Bella mushrooms, sliced', '2 cup...  \n",
       "1  Barbecue  ['2.5 lb pork country style ribs, all fat trim...  \n",
       "2   Italian  ['2 whole garlic heads', '2 tablespoons plus 2...  \n",
       "3    French  ['1 garlic clove, halved', 'Cooking spray', '6...  \n",
       "4  Barbecue  ['1 pound lean ground beef', '1 tablespoon Wor...  "
      ]
     },
     "execution_count": 294,
     "metadata": {},
     "output_type": "execute_result"
    }
   ],
   "source": [
    "recipes = pd.read_csv('recipes.csv')\n",
    "recipes.head()"
   ]
  },
  {
   "cell_type": "code",
   "execution_count": 430,
   "metadata": {
    "collapsed": false,
    "scrolled": false
   },
   "outputs": [
    {
     "data": {
      "text/html": [
       "<div>\n",
       "<style scoped>\n",
       "    .dataframe tbody tr th:only-of-type {\n",
       "        vertical-align: middle;\n",
       "    }\n",
       "\n",
       "    .dataframe tbody tr th {\n",
       "        vertical-align: top;\n",
       "    }\n",
       "\n",
       "    .dataframe thead th {\n",
       "        text-align: right;\n",
       "    }\n",
       "</style>\n",
       "<table border=\"1\" class=\"dataframe\">\n",
       "  <thead>\n",
       "    <tr style=\"text-align: right;\">\n",
       "      <th></th>\n",
       "      <th></th>\n",
       "      <th>description</th>\n",
       "      <th>unit_name</th>\n",
       "      <th>unit_abbreviation</th>\n",
       "      <th>value</th>\n",
       "    </tr>\n",
       "    <tr>\n",
       "      <th>recipe_id</th>\n",
       "      <th>attribute</th>\n",
       "      <th></th>\n",
       "      <th></th>\n",
       "      <th></th>\n",
       "      <th></th>\n",
       "    </tr>\n",
       "  </thead>\n",
       "  <tbody>\n",
       "    <tr>\n",
       "      <th rowspan=\"10\" valign=\"top\">Mushroom-risotto-352492</th>\n",
       "      <th>FAT_KCAL</th>\n",
       "      <td>NaN</td>\n",
       "      <td>calorie</td>\n",
       "      <td>kcal</td>\n",
       "      <td>80.00</td>\n",
       "    </tr>\n",
       "    <tr>\n",
       "      <th>FAPU</th>\n",
       "      <td>Fatty acids, total polyunsaturated</td>\n",
       "      <td>gram</td>\n",
       "      <td>g</td>\n",
       "      <td>0.24</td>\n",
       "    </tr>\n",
       "    <tr>\n",
       "      <th>CAMD5</th>\n",
       "      <td>Campesterol</td>\n",
       "      <td>gram</td>\n",
       "      <td>g</td>\n",
       "      <td>0.00</td>\n",
       "    </tr>\n",
       "    <tr>\n",
       "      <th>FOLDFE</th>\n",
       "      <td>Folate, DFE</td>\n",
       "      <td>mcg_DFE</td>\n",
       "      <td>mcg_DFE</td>\n",
       "      <td>298.07</td>\n",
       "    </tr>\n",
       "    <tr>\n",
       "      <th>FOLFD</th>\n",
       "      <td>Folate, food</td>\n",
       "      <td>gram</td>\n",
       "      <td>g</td>\n",
       "      <td>0.00</td>\n",
       "    </tr>\n",
       "    <tr>\n",
       "      <th>MN</th>\n",
       "      <td>Manganese, Mn</td>\n",
       "      <td>gram</td>\n",
       "      <td>g</td>\n",
       "      <td>0.00</td>\n",
       "    </tr>\n",
       "    <tr>\n",
       "      <th>TOCPHA</th>\n",
       "      <td>Vitamin E (alpha-tocopherol)</td>\n",
       "      <td>gram</td>\n",
       "      <td>g</td>\n",
       "      <td>0.00</td>\n",
       "    </tr>\n",
       "    <tr>\n",
       "      <th>FAMS</th>\n",
       "      <td>Fatty acids, total monounsaturated</td>\n",
       "      <td>gram</td>\n",
       "      <td>g</td>\n",
       "      <td>4.79</td>\n",
       "    </tr>\n",
       "    <tr>\n",
       "      <th>VITC</th>\n",
       "      <td>Vitamin C, total ascorbic acid</td>\n",
       "      <td>gram</td>\n",
       "      <td>g</td>\n",
       "      <td>0.01</td>\n",
       "    </tr>\n",
       "    <tr>\n",
       "      <th>CARTB</th>\n",
       "      <td>Carotene, beta</td>\n",
       "      <td>gram</td>\n",
       "      <td>g</td>\n",
       "      <td>0.00</td>\n",
       "    </tr>\n",
       "  </tbody>\n",
       "</table>\n",
       "</div>"
      ],
      "text/plain": [
       "                                                          description  \\\n",
       "recipe_id               attribute                                       \n",
       "Mushroom-risotto-352492 FAT_KCAL                                  NaN   \n",
       "                        FAPU       Fatty acids, total polyunsaturated   \n",
       "                        CAMD5                             Campesterol   \n",
       "                        FOLDFE                            Folate, DFE   \n",
       "                        FOLFD                            Folate, food   \n",
       "                        MN                              Manganese, Mn   \n",
       "                        TOCPHA           Vitamin E (alpha-tocopherol)   \n",
       "                        FAMS       Fatty acids, total monounsaturated   \n",
       "                        VITC           Vitamin C, total ascorbic acid   \n",
       "                        CARTB                          Carotene, beta   \n",
       "\n",
       "                                  unit_name unit_abbreviation   value  \n",
       "recipe_id               attribute                                      \n",
       "Mushroom-risotto-352492 FAT_KCAL    calorie              kcal   80.00  \n",
       "                        FAPU           gram                 g    0.24  \n",
       "                        CAMD5          gram                 g    0.00  \n",
       "                        FOLDFE      mcg_DFE           mcg_DFE  298.07  \n",
       "                        FOLFD          gram                 g    0.00  \n",
       "                        MN             gram                 g    0.00  \n",
       "                        TOCPHA         gram                 g    0.00  \n",
       "                        FAMS           gram                 g    4.79  \n",
       "                        VITC           gram                 g    0.01  \n",
       "                        CARTB          gram                 g    0.00  "
      ]
     },
     "execution_count": 430,
     "metadata": {},
     "output_type": "execute_result"
    }
   ],
   "source": [
    "nutrition = pd.read_csv('nutrition.csv')\n",
    "filtered_nutrition = nutrition[['recipe_id', 'attribute', 'description', 'unit_name', 'unit_abbreviation', 'value']]\n",
    "filtered_nutrition = filtered_nutrition.set_index(['recipe_id', 'attribute'])\n",
    "filtered_nutrition.head(10)"
   ]
  },
  {
   "cell_type": "markdown",
   "metadata": {},
   "source": [
    "UTILISER ENERC_KCAL"
   ]
  },
  {
   "cell_type": "code",
   "execution_count": 296,
   "metadata": {
    "collapsed": false,
    "scrolled": true
   },
   "outputs": [
    {
     "data": {
      "text/html": [
       "<div>\n",
       "<style scoped>\n",
       "    .dataframe tbody tr th:only-of-type {\n",
       "        vertical-align: middle;\n",
       "    }\n",
       "\n",
       "    .dataframe tbody tr th {\n",
       "        vertical-align: top;\n",
       "    }\n",
       "\n",
       "    .dataframe thead th {\n",
       "        text-align: right;\n",
       "    }\n",
       "</style>\n",
       "<table border=\"1\" class=\"dataframe\">\n",
       "  <thead>\n",
       "    <tr style=\"text-align: right;\">\n",
       "      <th></th>\n",
       "      <th>recipe_id</th>\n",
       "      <th>kcal</th>\n",
       "    </tr>\n",
       "  </thead>\n",
       "  <tbody>\n",
       "    <tr>\n",
       "      <th>0</th>\n",
       "      <td>Mushroom-risotto-352492</td>\n",
       "      <td>80.0</td>\n",
       "    </tr>\n",
       "    <tr>\n",
       "      <th>1</th>\n",
       "      <td>Filipino-bbq-pork-skewers-352163</td>\n",
       "      <td>320.0</td>\n",
       "    </tr>\n",
       "    <tr>\n",
       "      <th>2</th>\n",
       "      <td>Mushroom-and-Roasted-Garlic-Risotto-525026</td>\n",
       "      <td>540.0</td>\n",
       "    </tr>\n",
       "    <tr>\n",
       "      <th>3</th>\n",
       "      <td>Gratin-Dauphinois-_scalloped-Potatoes-With-Che...</td>\n",
       "      <td>50.0</td>\n",
       "    </tr>\n",
       "    <tr>\n",
       "      <th>4</th>\n",
       "      <td>Delicious-Grilled-Hamburgers-Allrecipes</td>\n",
       "      <td>110.0</td>\n",
       "    </tr>\n",
       "  </tbody>\n",
       "</table>\n",
       "</div>"
      ],
      "text/plain": [
       "                                           recipe_id   kcal\n",
       "0                            Mushroom-risotto-352492   80.0\n",
       "1                   Filipino-bbq-pork-skewers-352163  320.0\n",
       "2         Mushroom-and-Roasted-Garlic-Risotto-525026  540.0\n",
       "3  Gratin-Dauphinois-_scalloped-Potatoes-With-Che...   50.0\n",
       "4            Delicious-Grilled-Hamburgers-Allrecipes  110.0"
      ]
     },
     "execution_count": 296,
     "metadata": {},
     "output_type": "execute_result"
    }
   ],
   "source": [
    "# keep only the kcal column\n",
    "cal_df = nutrition\n",
    "cal_df = cal_df[cal_df.attribute == 'FAT_KCAL'].reset_index()\n",
    "cal_df = cal_df[['recipe_id', 'value']]\n",
    "cal_df.columns = ['recipe_id', 'kcal']\n",
    "cal_df.head()"
   ]
  },
  {
   "cell_type": "code",
   "execution_count": 297,
   "metadata": {
    "collapsed": false
   },
   "outputs": [
    {
     "data": {
      "text/html": [
       "<div>\n",
       "<style scoped>\n",
       "    .dataframe tbody tr th:only-of-type {\n",
       "        vertical-align: middle;\n",
       "    }\n",
       "\n",
       "    .dataframe tbody tr th {\n",
       "        vertical-align: top;\n",
       "    }\n",
       "\n",
       "    .dataframe thead th {\n",
       "        text-align: right;\n",
       "    }\n",
       "</style>\n",
       "<table border=\"1\" class=\"dataframe\">\n",
       "  <thead>\n",
       "    <tr style=\"text-align: right;\">\n",
       "      <th></th>\n",
       "      <th>recipe_id</th>\n",
       "      <th>name</th>\n",
       "      <th>totalTime</th>\n",
       "      <th>course</th>\n",
       "      <th>cuisine</th>\n",
       "      <th>kcal</th>\n",
       "      <th>ingredients</th>\n",
       "    </tr>\n",
       "  </thead>\n",
       "  <tbody>\n",
       "    <tr>\n",
       "      <th>0</th>\n",
       "      <td>Mushroom-risotto-352492</td>\n",
       "      <td>Mushroom Risotto</td>\n",
       "      <td>30.0</td>\n",
       "      <td>Side Dishes</td>\n",
       "      <td>Italian</td>\n",
       "      <td>80.0</td>\n",
       "      <td>['2 cups Baby Bella mushrooms, sliced', '2 cup...</td>\n",
       "    </tr>\n",
       "    <tr>\n",
       "      <th>1</th>\n",
       "      <td>Filipino-bbq-pork-skewers-352163</td>\n",
       "      <td>Filipino BBQ Pork Skewers</td>\n",
       "      <td>40.0</td>\n",
       "      <td>Main Dishes</td>\n",
       "      <td>Barbecue</td>\n",
       "      <td>320.0</td>\n",
       "      <td>['2.5 lb pork country style ribs, all fat trim...</td>\n",
       "    </tr>\n",
       "    <tr>\n",
       "      <th>2</th>\n",
       "      <td>Mushroom-and-Roasted-Garlic-Risotto-525026</td>\n",
       "      <td>Mushroom and Roasted Garlic Risotto</td>\n",
       "      <td>85.0</td>\n",
       "      <td>Main Dishes</td>\n",
       "      <td>Italian</td>\n",
       "      <td>540.0</td>\n",
       "      <td>['2 whole garlic heads', '2 tablespoons plus 2...</td>\n",
       "    </tr>\n",
       "    <tr>\n",
       "      <th>3</th>\n",
       "      <td>Gratin-Dauphinois-_scalloped-Potatoes-With-Che...</td>\n",
       "      <td>Gratin Dauphinois (Scalloped Potatoes with Che...</td>\n",
       "      <td>55.0</td>\n",
       "      <td>Side Dishes</td>\n",
       "      <td>French</td>\n",
       "      <td>50.0</td>\n",
       "      <td>['1 garlic clove, halved', 'Cooking spray', '6...</td>\n",
       "    </tr>\n",
       "    <tr>\n",
       "      <th>4</th>\n",
       "      <td>Delicious-Grilled-Hamburgers-Allrecipes</td>\n",
       "      <td>Delicious Grilled Hamburgers</td>\n",
       "      <td>15.0</td>\n",
       "      <td>Main Dishes</td>\n",
       "      <td>Barbecue</td>\n",
       "      <td>110.0</td>\n",
       "      <td>['1 pound lean ground beef', '1 tablespoon Wor...</td>\n",
       "    </tr>\n",
       "  </tbody>\n",
       "</table>\n",
       "</div>"
      ],
      "text/plain": [
       "                                           recipe_id  \\\n",
       "0                            Mushroom-risotto-352492   \n",
       "1                   Filipino-bbq-pork-skewers-352163   \n",
       "2         Mushroom-and-Roasted-Garlic-Risotto-525026   \n",
       "3  Gratin-Dauphinois-_scalloped-Potatoes-With-Che...   \n",
       "4            Delicious-Grilled-Hamburgers-Allrecipes   \n",
       "\n",
       "                                                name  totalTime       course  \\\n",
       "0                                   Mushroom Risotto       30.0  Side Dishes   \n",
       "1                          Filipino BBQ Pork Skewers       40.0  Main Dishes   \n",
       "2                Mushroom and Roasted Garlic Risotto       85.0  Main Dishes   \n",
       "3  Gratin Dauphinois (Scalloped Potatoes with Che...       55.0  Side Dishes   \n",
       "4                       Delicious Grilled Hamburgers       15.0  Main Dishes   \n",
       "\n",
       "    cuisine   kcal                                        ingredients  \n",
       "0   Italian   80.0  ['2 cups Baby Bella mushrooms, sliced', '2 cup...  \n",
       "1  Barbecue  320.0  ['2.5 lb pork country style ribs, all fat trim...  \n",
       "2   Italian  540.0  ['2 whole garlic heads', '2 tablespoons plus 2...  \n",
       "3    French   50.0  ['1 garlic clove, halved', 'Cooking spray', '6...  \n",
       "4  Barbecue  110.0  ['1 pound lean ground beef', '1 tablespoon Wor...  "
      ]
     },
     "execution_count": 297,
     "metadata": {},
     "output_type": "execute_result"
    }
   ],
   "source": [
    "df_original = pd.merge(recipes, cal_df, how='outer', on='recipe_id')\n",
    "df_original = df_original[['recipe_id', 'name', 'totalTime', 'course', 'cuisine', 'kcal', 'ingredients']]\n",
    "df_original['totalTime'] = df_original['totalTime']/60\n",
    "df_original.head()"
   ]
  },
  {
   "cell_type": "code",
   "execution_count": 437,
   "metadata": {
    "collapsed": false
   },
   "outputs": [],
   "source": [
    "def update_x_range(*args):\n",
    "    if(x.value > y.value):\n",
    "        x.value = y.value\n",
    "    y.observe(update_x_range, 'value')\n",
    "    \n",
    "def update_y_range(*args):\n",
    "    if(y.value < x.value):\n",
    "        y.value = x.value\n",
    "    x.observe(update_y_range, 'value')\n",
    "\n",
    "def f(Filter_by_kcal, min_kcal, max_kcal, User, Course, Cuisine, Filter_by_time, t):\n",
    "    df = df_original.copy()\n",
    "    df['URL'] = 'https://www.yummly.com/#recipe/' + df['recipe_id']\n",
    "    if(Filter_by_kcal):\n",
    "        df = df[df.kcal >= min_kcal]\n",
    "        df = df[df.kcal <= max_kcal]\n",
    "    if(Course != 'All'):\n",
    "        df = df[df.course==Course]\n",
    "    if(Cuisine != 'All'):\n",
    "        df = df[df.cuisine==Cuisine]      \n",
    "    if(Filter_by_time):\n",
    "        df = df[df.totalTime <= t]\n",
    "    if(df.empty):\n",
    "        print('Sorry, no recommendation')\n",
    "    else:\n",
    "        columns = ['name', 'kcal', 'totalTime']\n",
    "        if(Course == 'All'):\n",
    "            columns.append('course')\n",
    "        if(Cuisine == 'All'):\n",
    "            columns.append('cuisine')\n",
    "        columns.append('URL')    \n",
    "\n",
    "        known_user_likes, score = recommend_for_user(User)\n",
    "        score_df = pd.DataFrame(score).reset_index()\n",
    "        score_df.columns = ['recipe_id', 'score']\n",
    "        df = pd.merge(score_df, df, how='inner', on='recipe_id') # how = outer to see all\n",
    "        df = df.sort_values(by = 'score', ascending=False)\n",
    "        \n",
    "        #print('Here what user', User, 'liked:')\n",
    "        #print(known_user_likes)\n",
    "        #print()\n",
    "        \n",
    "        print('Here are some recommendations for user', User, ':')\n",
    "        \n",
    "        #return df[['URL']].head().style.format(make_clickable)\n",
    "        return df[columns].set_index('name').head()\n",
    "\n",
    "def make_clickable(link):\n",
    "    begin = 'https://www.yummly.com/#recipe/'\n",
    "    return '<a href=\"{}\">{}</a>'.format(link, link[len(begin):])"
   ]
  },
  {
   "cell_type": "code",
   "execution_count": 438,
   "metadata": {
    "collapsed": false,
    "scrolled": false
   },
   "outputs": [
    {
     "name": "stdout",
     "output_type": "stream",
     "text": [
      "Here are some recommendations for user Axel :\n"
     ]
    },
    {
     "data": {
      "text/html": [
       "<div>\n",
       "<style scoped>\n",
       "    .dataframe tbody tr th:only-of-type {\n",
       "        vertical-align: middle;\n",
       "    }\n",
       "\n",
       "    .dataframe tbody tr th {\n",
       "        vertical-align: top;\n",
       "    }\n",
       "\n",
       "    .dataframe thead th {\n",
       "        text-align: right;\n",
       "    }\n",
       "</style>\n",
       "<table border=\"1\" class=\"dataframe\">\n",
       "  <thead>\n",
       "    <tr style=\"text-align: right;\">\n",
       "      <th></th>\n",
       "      <th>kcal</th>\n",
       "      <th>totalTime</th>\n",
       "      <th>course</th>\n",
       "      <th>cuisine</th>\n",
       "      <th>URL</th>\n",
       "    </tr>\n",
       "    <tr>\n",
       "      <th>name</th>\n",
       "      <th></th>\n",
       "      <th></th>\n",
       "      <th></th>\n",
       "      <th></th>\n",
       "      <th></th>\n",
       "    </tr>\n",
       "  </thead>\n",
       "  <tbody>\n",
       "    <tr>\n",
       "      <th>Thai Stir Fried Noodles (Pad See Ew)</th>\n",
       "      <td>130.0</td>\n",
       "      <td>15.0</td>\n",
       "      <td>Main Dishes</td>\n",
       "      <td>Asian</td>\n",
       "      <td>https://www.yummly.com/#recipe/Thai-Stir-Fried...</td>\n",
       "    </tr>\n",
       "    <tr>\n",
       "      <th>Penne Pasta with Spicy Italian Sausage, Mushrooms, and Spinach</th>\n",
       "      <td>150.0</td>\n",
       "      <td>30.0</td>\n",
       "      <td>Main Dishes</td>\n",
       "      <td>Italian</td>\n",
       "      <td>https://www.yummly.com/#recipe/Penne-pasta-wit...</td>\n",
       "    </tr>\n",
       "    <tr>\n",
       "      <th>Easy Lo Mein</th>\n",
       "      <td>50.0</td>\n",
       "      <td>25.0</td>\n",
       "      <td>Main Dishes</td>\n",
       "      <td>Asian</td>\n",
       "      <td>https://www.yummly.com/#recipe/Easy-Lo-Mein-75...</td>\n",
       "    </tr>\n",
       "    <tr>\n",
       "      <th>Mexican Lasagna</th>\n",
       "      <td>120.0</td>\n",
       "      <td>50.0</td>\n",
       "      <td>Main Dishes</td>\n",
       "      <td>Southwestern</td>\n",
       "      <td>https://www.yummly.com/#recipe/Mexican-lasagna...</td>\n",
       "    </tr>\n",
       "    <tr>\n",
       "      <th>Italian Sausage and Pasta with Tomato Cream Sauce</th>\n",
       "      <td>230.0</td>\n",
       "      <td>25.0</td>\n",
       "      <td>Main Dishes</td>\n",
       "      <td>Italian</td>\n",
       "      <td>https://www.yummly.com/#recipe/Italian-Sausage...</td>\n",
       "    </tr>\n",
       "  </tbody>\n",
       "</table>\n",
       "</div>"
      ],
      "text/plain": [
       "                                                     kcal  totalTime  \\\n",
       "name                                                                   \n",
       "Thai Stir Fried Noodles (Pad See Ew)                130.0       15.0   \n",
       "Penne Pasta with Spicy Italian Sausage, Mushroo...  150.0       30.0   \n",
       "Easy Lo Mein                                         50.0       25.0   \n",
       "Mexican Lasagna                                     120.0       50.0   \n",
       "Italian Sausage and Pasta with Tomato Cream Sauce   230.0       25.0   \n",
       "\n",
       "                                                         course       cuisine  \\\n",
       "name                                                                            \n",
       "Thai Stir Fried Noodles (Pad See Ew)                Main Dishes         Asian   \n",
       "Penne Pasta with Spicy Italian Sausage, Mushroo...  Main Dishes       Italian   \n",
       "Easy Lo Mein                                        Main Dishes         Asian   \n",
       "Mexican Lasagna                                     Main Dishes  Southwestern   \n",
       "Italian Sausage and Pasta with Tomato Cream Sauce   Main Dishes       Italian   \n",
       "\n",
       "                                                                                                  URL  \n",
       "name                                                                                                   \n",
       "Thai Stir Fried Noodles (Pad See Ew)                https://www.yummly.com/#recipe/Thai-Stir-Fried...  \n",
       "Penne Pasta with Spicy Italian Sausage, Mushroo...  https://www.yummly.com/#recipe/Penne-pasta-wit...  \n",
       "Easy Lo Mein                                        https://www.yummly.com/#recipe/Easy-Lo-Mein-75...  \n",
       "Mexican Lasagna                                     https://www.yummly.com/#recipe/Mexican-lasagna...  \n",
       "Italian Sausage and Pasta with Tomato Cream Sauce   https://www.yummly.com/#recipe/Italian-Sausage...  "
      ]
     },
     "metadata": {},
     "output_type": "display_data"
    }
   ],
   "source": [
    "x = widgets.IntSlider(min=0, max=2000, step=1, value=0, description='Minimum number of kcal')\n",
    "y = widgets.IntSlider(min=0, max=2000, step=1, value=2000, description='Maximum number of kcal')\n",
    "cuisines = sorted(df_original.cuisine.unique())\n",
    "cuisines.insert(0, 'All')\n",
    "courses = sorted(df_original.course.unique())\n",
    "courses.insert(0, 'All')\n",
    "t = widgets.IntSlider(min=0, max=120, step=1, value=60, description='Maximum time')\n",
    "user_select = users[:10];\n",
    "user_select.insert(0, 'Axel')\n",
    "\n",
    "bite = widgets.interact(f, Filter_by_kcal=True, min_kcal=x, max_kcal=y, \n",
    "                 User=user_select, Cuisine=cuisines, Course=courses,\n",
    "                 Filter_by_time=True, t=t);\n",
    "update_x_range()\n",
    "update_y_range()"
   ]
  },
  {
   "cell_type": "markdown",
   "metadata": {},
   "source": [
    "- un click voir d'autres recommandations \n",
    "- mettre les users dans le menu qui ont le plus de saved\n",
    "- interface ou on choisit un user, affiche ce qu'il aime, et des bails recommandés en fonction des contraintes  \n",
    "=> trier les recettes restantes pour un utilisateur donné dans l'ordre de ses recommandations   \n",
    "- demander une liste d'ingrédients et montrer ce qu'on peut faire avec \n",
    "- LES KCAL SONT PAS LES BONNES !!!\n",
    "- Attention aux duplicats !\n",
    "- Faire marcher les URL !"
   ]
  },
  {
   "cell_type": "markdown",
   "metadata": {
    "collapsed": false
   },
   "source": [
    "Il faut récuperer tous les plats qu'on utilise et les avoir dans recipes etc aussi pour que ca marche"
   ]
  }
 ],
 "metadata": {
  "anaconda-cloud": {},
  "kernelspec": {
   "display_name": "Python [Root]",
   "language": "python",
   "name": "Python [Root]"
  },
  "language_info": {
   "codemirror_mode": {
    "name": "ipython",
    "version": 3
   },
   "file_extension": ".py",
   "mimetype": "text/x-python",
   "name": "python",
   "nbconvert_exporter": "python",
   "pygments_lexer": "ipython3",
   "version": "3.5.2"
  }
 },
 "nbformat": 4,
 "nbformat_minor": 0
}
