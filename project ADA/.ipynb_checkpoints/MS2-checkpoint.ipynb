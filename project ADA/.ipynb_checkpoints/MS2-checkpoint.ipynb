{
 "cells": [
  {
   "cell_type": "markdown",
   "metadata": {},
   "source": [
    "# Introduction\n",
    "\n",
    "For our next milestone in this project, we have set a few goals. First we needed a good dataset that contains users and ratings those users gave for specific recipes in our dataset. While searching for a good source of data for our project, we have discovered yummly dataset on recipes at http://lherranz.org/datasets/. Later in our analysis we have discovered that this dataset contained some duplicate values, so after removing them we had a total of 27322 recipes. \n",
    "\n",
    "Each of these recipes contains valuable information about ingredients, cuisine, type of course the recipe is assigned to, flavors and so on. But still, for the recommendation part of our assignement, we needed some users and their opinions on different recipes, therefore the ratings they gave for a specific recipe. In order to collect that information, we performed web scraping of https://www.yummly.com/ website, and collected 4828 reviews from 2351 users. \n",
    "\n",
    "After collecting data, we were able to build a simple recommender system that would allow our user to get recommendations of recipes that he would most likely grade with a highest score. However, our goal is to create a recommender system that would as well allow user to enjoy the possibility of creating a complete healthy daily menu with three meals corresponding to different dish course categories. In this part of our project we concetrated on building the simple recommender. For the next milestone we plan to enrich our recommendations by using additiona features like cuisine type, set of ingredients, preparation time, so that we could provide a more sophisticated menu that would be considered healthy for our user. \n",
    "\n",
    "In order to achieve this, we would need some definition of a healthy menu. Here we have considered the proposed nutritional requirements recommended by FDA. Based on this, a healthy menu for an adult person consists of meals that fill the 2000kcal daily goal. And not only that, the number and portions of proteins, fat and carbs should be well distributed, together with the number of vitamins and minerals consumed. \n",
    "\n",
    "In order to allow our user to actually see the success of our proposed menu to achieve these values, we have performed visualization on nutritional values of recipes. He will in this way have the information about the percentage of nutrients in his diet compared to proposed daily values. For the next milestone, we would like to enable user to set his own requirements on daily number of calories, amount of proteins, carbs and so on, as the 2000kcal per day diet has been shown insufficient for an active adult person in modern world.\n",
    "\n",
    "Now, cooking is not only about aiming to fulfill some proposed values in order to be healthy. Beside that, it's usually fun. So in order to make cooking and commiting to the proposed menu more interesting we will add a 'Did you know?' section. With every proposed meal, we could inform our user about the cuisine that meal comes from, but not only that, we could allow him to explore different similar cuisines, in order to find more favourite meals. Also, as each recipe comes with a set of ingredients, we will let our user know about the ingredients he is about to consume. We can even find a connection between cusine and the most common ingredients in that cuisine which all provide nice overview of our dataset and our user's preferences.  "
   ]
  },
  {
   "cell_type": "code",
   "execution_count": 26,
   "metadata": {
    "collapsed": true
   },
   "outputs": [],
   "source": [
    "import requests\n",
    "from bs4 import BeautifulSoup\n",
    "import os\n",
    "import sys\n",
    "import pandas as pd\n",
    "import numpy as np\n",
    "import json\n",
    "import re\n",
    "from flatten_json import flatten\n",
    "import shutil\n",
    "from tqdm import tqdm\n",
    "import glob\n",
    "import csv\n",
    "import matplotlib as plt\n",
    "import pprint\n",
    "%matplotlib inline\n",
    "import warnings\n",
    "warnings.filterwarnings(\"ignore\")"
   ]
  },
  {
   "cell_type": "code",
   "execution_count": 27,
   "metadata": {
    "collapsed": true
   },
   "outputs": [],
   "source": [
    "directory = '/Users/bojanarankovic/Documents/ada/project/yummly_scraper/Yummly28K/done/'\n",
    "root = '/Users/bojanarankovic/Documents/ada/project/yummly_scraper/Yummly28K/'\n",
    "done = '/Users/bojanarankovic/Documents/ada/project/yummly_scraper/Yummly28K/done/'"
   ]
  },
  {
   "cell_type": "markdown",
   "metadata": {},
   "source": [
    "# Example data\n",
    "\n",
    "Our first dataset on recipes comes from http://lherranz.org/datasets/ and containes 27638 json files that we explored."
   ]
  },
  {
   "cell_type": "markdown",
   "metadata": {},
   "source": [
    "# Scraping data\n",
    "\n",
    "We have used the 'url' json attribute of each recipe and on that page we have found the reviews for that recipe. Using the requests, we managed to collect all elements needed so that we could obtain data on users and ratings they left for that specific recipe. This was collected in a json format, which we later converted to csv."
   ]
  },
  {
   "cell_type": "code",
   "execution_count": null,
   "metadata": {
    "collapsed": true
   },
   "outputs": [],
   "source": [
    "directory = os.fsencode('/Users/bojanarankovic/Documents/ada/project/yummly_scraper/Yummly28K/metadata27638/')\n",
    "root = os.fsencode('/Users/bojanarankovic/Documents/ada/project/yummly_scraper/Yummly28K/')\n",
    "done = '/Users/bojanarankovic/Documents/ada/project/yummly_scraper/Yummly28K/done/'\n",
    "recipe_file = open('reviews.json', 'a')\n",
    "users_ratings = {}\n",
    "counter = 0\n",
    "for file in os.listdir(directory):\n",
    "    \n",
    "    filename = os.fsdecode(os.path.join(directory, file))\n",
    "    counter+=1\n",
    "    try:\n",
    "        with open(filename) as json_data:\n",
    "            d = json.load(json_data)\n",
    "            URL = d['attribution']['url']\n",
    "            recipe_id = d['id']\n",
    "            \n",
    "            r = requests.get(URL)\n",
    "            soup = BeautifulSoup(r.content, 'html.parser')\n",
    "            \n",
    "            elements = soup.find_all(class_=\"review\")\n",
    "            \n",
    "            for el in elements[1:]:\n",
    "                \n",
    "                try:\n",
    "                    \n",
    "                    user_url ='https://www.yummly.com' + str(el.select(\".review-name a\")[0].attrs[\"href\"])\n",
    "                    user = user_url[user_url.rfind('/')+1:]\n",
    "                    rating = len(el.select(\".review-rating .full-star\")) + 0.5 * len(el.select(\".review-rating .half-star\"))\n",
    "                    recipe_file.write('{{\"user\":\"{}\", \"recipe_id\":\"{}\", \"rating\":{},\"user_url\":\"{}\"}},\\n'.format(user,recipe_id,rating,user_url))\n",
    "                    \n",
    "                except AttributeError as err:\n",
    "                    user = 'np.nan'\n",
    "                    user_url = 'np.nan'\n",
    "                    rating = 'np.nan'\n",
    "                    review = 'np.nan'\n",
    "        print(filename)\n",
    "        shutil.move(filename, done)\n",
    "    except:\n",
    "        print(str.format(\"Error occured: {}\",sys.exc_info()))\n",
    "        invalid_json_files.write(filename+'/n')\n",
    "\n"
   ]
  },
  {
   "cell_type": "markdown",
   "metadata": {},
   "source": [
    "# Reading data"
   ]
  },
  {
   "cell_type": "markdown",
   "metadata": {},
   "source": [
    "Our dataset provides wide range of information we could use, but we needed to restrict our selection to data that would be essential for this milestone. The needed information on recipes for analysis is course, cuisine, time and list of ingredients. Eveno though there are several attributes describint preparation time of recipe we have chosen the one given in seconds, because it's the most consistent in the dataset, unlike the other values that could sometime be in minutes and sometimes hours and minutes, and so on. \n",
    "    \n",
    "For extracting information on nutritional values for recipes, we have used flatten_json because the data on nutrients comes in a shape of a dictionary of dictionaries as each unit has its own additional values."
   ]
  },
  {
   "cell_type": "code",
   "execution_count": 28,
   "metadata": {
    "collapsed": false,
    "scrolled": true
   },
   "outputs": [
    {
     "name": "stderr",
     "output_type": "stream",
     "text": [
      "100%|██████████| 27617/27617 [01:14<00:00, 372.44it/s]\n"
     ]
    }
   ],
   "source": [
    "columns_recipes=['recipe_id','name','totalTime','course','cuisine','ingredients']\n",
    "columns_nutrition=['recipe_id', 'attribute','description','unit_abbreviation','unit_decimal','unit_id',\n",
    "                   'unit_name','unit_plural','unit_pluralAbbreviation',  'value']\n",
    "writer_recipes = csv.DictWriter(open('recipes.csv', \"w\"), fieldnames=columns_recipes)\n",
    "writer_nutrition = csv.DictWriter(open('nutrition.csv', \"w\"), fieldnames=columns_nutrition,restval='',\n",
    "                                  extrasaction='ignore')\n",
    "writer_recipes.writeheader()\n",
    "writer_nutrition.writeheader()\n",
    "br=0\n",
    "\n",
    "for file in tqdm(os.listdir(directory)):\n",
    "    br+=1\n",
    "    if not file.startswith('.'):\n",
    "        filename = os.fsdecode(os.path.join(directory, file))\n",
    "        with open(filename) as json_data:\n",
    "            recipe_info = json.load(json_data)\n",
    "            row_recipe=[] \n",
    "            row_recipe.append({'recipe_id': recipe_info['id'], \n",
    "                            'name': recipe_info['name'], \n",
    "                            'totalTime': recipe_info['totalTimeInSeconds'],\n",
    "                            'course':recipe_info['attributes']['course'][0],\n",
    "                            'cuisine':recipe_info['attributes']['cuisine'][0],\n",
    "                            'ingredients':recipe_info['ingredientLines']\n",
    "                       })\n",
    "            \n",
    "            writer_recipes.writerow(row_recipe[0])\n",
    "            \n",
    "            nutrition_facts = recipe_info['nutritionEstimates']\n",
    "            for d in nutrition_facts: \n",
    "                d.update({'recipe_id':recipe_info['id']})\n",
    "            \n",
    "            dict_flattened = [flatten(d) for d in nutrition_facts]\n",
    "            writer_nutrition.writerows(dict_flattened)\n"
   ]
  },
  {
   "cell_type": "code",
   "execution_count": 29,
   "metadata": {
    "collapsed": true,
    "scrolled": true
   },
   "outputs": [],
   "source": [
    "recipes = pd.read_csv('recipes.csv', index_col='recipe_id')\n",
    "nutrition = pd.read_csv('nutrition.csv', index_col=['recipe_id','attribute'], usecols=['recipe_id', 'attribute','description','unit_abbreviation','unit_decimal','unit_name','unit_plural','unit_pluralAbbreviation',  'value'])\n"
   ]
  },
  {
   "cell_type": "code",
   "execution_count": 30,
   "metadata": {
    "collapsed": false
   },
   "outputs": [
    {
     "data": {
      "text/plain": [
       "(27616, 5)"
      ]
     },
     "execution_count": 30,
     "metadata": {},
     "output_type": "execute_result"
    }
   ],
   "source": [
    "recipes.shape"
   ]
  },
  {
   "cell_type": "code",
   "execution_count": 31,
   "metadata": {
    "collapsed": false
   },
   "outputs": [
    {
     "data": {
      "text/plain": [
       "(1785660, 7)"
      ]
     },
     "execution_count": 31,
     "metadata": {},
     "output_type": "execute_result"
    }
   ],
   "source": [
    "nutrition.shape"
   ]
  },
  {
   "cell_type": "code",
   "execution_count": 32,
   "metadata": {
    "collapsed": true
   },
   "outputs": [],
   "source": [
    "columns_reviews = ['user','recipe_id','rating']\n",
    "reviews = pd.read_json('/Users/bojanarankovic/Documents/ada/project/yummly_scraper/reviews.json')\n",
    "reviews = reviews[columns_reviews]\n"
   ]
  },
  {
   "cell_type": "code",
   "execution_count": 33,
   "metadata": {
    "collapsed": false
   },
   "outputs": [
    {
     "data": {
      "text/plain": [
       "(5037, 3)"
      ]
     },
     "execution_count": 33,
     "metadata": {},
     "output_type": "execute_result"
    }
   ],
   "source": [
    "reviews.shape"
   ]
  },
  {
   "cell_type": "code",
   "execution_count": 34,
   "metadata": {
    "collapsed": true
   },
   "outputs": [],
   "source": [
    "reviews.to_csv('reviews.csv', index=False)"
   ]
  },
  {
   "cell_type": "markdown",
   "metadata": {},
   "source": [
    "# Recommendation system\n"
   ]
  },
  {
   "cell_type": "markdown",
   "metadata": {},
   "source": [
    "In this section, we build a simple recommendation system that will be improved later on. For the moment, it just makes prediction based on ratings given by users to some recipes. For the next milestone, we plan to improve it so that it allows to make interactive recommendations with respect to some given constraints chosen by the users (for instance nutrition contraints or constraints on the type of cuisine, etc...). "
   ]
  },
  {
   "cell_type": "code",
   "execution_count": 4,
   "metadata": {
    "collapsed": true
   },
   "outputs": [],
   "source": [
    "import pandas as pd\n",
    "import numpy as np"
   ]
  },
  {
   "cell_type": "markdown",
   "metadata": {},
   "source": [
    "For this part, we will mainly use the reviews dataframe containing (u, i, r) triplet where r is the rating given by user u to the item/recipe i. Here what it looks like."
   ]
  },
  {
   "cell_type": "code",
   "execution_count": 5,
   "metadata": {
    "collapsed": false
   },
   "outputs": [
    {
     "data": {
      "text/html": [
       "<div>\n",
       "<style scoped>\n",
       "    .dataframe tbody tr th:only-of-type {\n",
       "        vertical-align: middle;\n",
       "    }\n",
       "\n",
       "    .dataframe tbody tr th {\n",
       "        vertical-align: top;\n",
       "    }\n",
       "\n",
       "    .dataframe thead th {\n",
       "        text-align: right;\n",
       "    }\n",
       "</style>\n",
       "<table border=\"1\" class=\"dataframe\">\n",
       "  <thead>\n",
       "    <tr style=\"text-align: right;\">\n",
       "      <th></th>\n",
       "      <th>user</th>\n",
       "      <th>recipe_id</th>\n",
       "      <th>rating</th>\n",
       "    </tr>\n",
       "  </thead>\n",
       "  <tbody>\n",
       "    <tr>\n",
       "      <th>0</th>\n",
       "      <td>SapnaPadte</td>\n",
       "      <td>Mushroom-risotto-352492</td>\n",
       "      <td>4</td>\n",
       "    </tr>\n",
       "    <tr>\n",
       "      <th>1</th>\n",
       "      <td>AlinaMaatjes-Siletskaya</td>\n",
       "      <td>Mushroom-risotto-352492</td>\n",
       "      <td>5</td>\n",
       "    </tr>\n",
       "    <tr>\n",
       "      <th>2</th>\n",
       "      <td>JeanDespatie</td>\n",
       "      <td>Mushroom-risotto-352492</td>\n",
       "      <td>5</td>\n",
       "    </tr>\n",
       "    <tr>\n",
       "      <th>3</th>\n",
       "      <td>ConnieHolboy</td>\n",
       "      <td>Mushroom-risotto-352492</td>\n",
       "      <td>5</td>\n",
       "    </tr>\n",
       "    <tr>\n",
       "      <th>4</th>\n",
       "      <td>hermanmarie333</td>\n",
       "      <td>Mushroom-risotto-352492</td>\n",
       "      <td>5</td>\n",
       "    </tr>\n",
       "  </tbody>\n",
       "</table>\n",
       "</div>"
      ],
      "text/plain": [
       "                      user                recipe_id  rating\n",
       "0               SapnaPadte  Mushroom-risotto-352492       4\n",
       "1  AlinaMaatjes-Siletskaya  Mushroom-risotto-352492       5\n",
       "2             JeanDespatie  Mushroom-risotto-352492       5\n",
       "3             ConnieHolboy  Mushroom-risotto-352492       5\n",
       "4           hermanmarie333  Mushroom-risotto-352492       5"
      ]
     },
     "execution_count": 5,
     "metadata": {},
     "output_type": "execute_result"
    }
   ],
   "source": [
    "reviews = pd.read_csv('reviews.csv')\n",
    "reviews.head()"
   ]
  },
  {
   "cell_type": "markdown",
   "metadata": {},
   "source": [
    "We will also use two other dataframes. The first one contains the recipes which will help us to make recommendations based on cuisine, time, or even ingredients constraints. The last one contains nutrition informations which will also help us to make recommendations based this time on nutrional constraints."
   ]
  },
  {
   "cell_type": "code",
   "execution_count": 6,
   "metadata": {
    "collapsed": false
   },
   "outputs": [
    {
     "data": {
      "text/html": [
       "<div>\n",
       "<style scoped>\n",
       "    .dataframe tbody tr th:only-of-type {\n",
       "        vertical-align: middle;\n",
       "    }\n",
       "\n",
       "    .dataframe tbody tr th {\n",
       "        vertical-align: top;\n",
       "    }\n",
       "\n",
       "    .dataframe thead th {\n",
       "        text-align: right;\n",
       "    }\n",
       "</style>\n",
       "<table border=\"1\" class=\"dataframe\">\n",
       "  <thead>\n",
       "    <tr style=\"text-align: right;\">\n",
       "      <th></th>\n",
       "      <th>recipe_id</th>\n",
       "      <th>name</th>\n",
       "      <th>totalTime</th>\n",
       "      <th>course</th>\n",
       "      <th>cuisine</th>\n",
       "      <th>ingredients</th>\n",
       "    </tr>\n",
       "  </thead>\n",
       "  <tbody>\n",
       "    <tr>\n",
       "      <th>0</th>\n",
       "      <td>Mushroom-risotto-352492</td>\n",
       "      <td>Mushroom Risotto</td>\n",
       "      <td>1800.0</td>\n",
       "      <td>Side Dishes</td>\n",
       "      <td>Italian</td>\n",
       "      <td>['2 cups Baby Bella mushrooms, sliced', '2 cup...</td>\n",
       "    </tr>\n",
       "    <tr>\n",
       "      <th>1</th>\n",
       "      <td>Filipino-bbq-pork-skewers-352163</td>\n",
       "      <td>Filipino BBQ Pork Skewers</td>\n",
       "      <td>2400.0</td>\n",
       "      <td>Main Dishes</td>\n",
       "      <td>Barbecue</td>\n",
       "      <td>['2.5 lb pork country style ribs, all fat trim...</td>\n",
       "    </tr>\n",
       "    <tr>\n",
       "      <th>2</th>\n",
       "      <td>Mushroom-and-Roasted-Garlic-Risotto-525026</td>\n",
       "      <td>Mushroom and Roasted Garlic Risotto</td>\n",
       "      <td>5100.0</td>\n",
       "      <td>Main Dishes</td>\n",
       "      <td>Italian</td>\n",
       "      <td>['2 whole garlic heads', '2 tablespoons plus 2...</td>\n",
       "    </tr>\n",
       "    <tr>\n",
       "      <th>3</th>\n",
       "      <td>Gratin-Dauphinois-_scalloped-Potatoes-With-Che...</td>\n",
       "      <td>Gratin Dauphinois (Scalloped Potatoes with Che...</td>\n",
       "      <td>3300.0</td>\n",
       "      <td>Side Dishes</td>\n",
       "      <td>French</td>\n",
       "      <td>['1 garlic clove, halved', 'Cooking spray', '6...</td>\n",
       "    </tr>\n",
       "    <tr>\n",
       "      <th>4</th>\n",
       "      <td>Delicious-Grilled-Hamburgers-Allrecipes</td>\n",
       "      <td>Delicious Grilled Hamburgers</td>\n",
       "      <td>900.0</td>\n",
       "      <td>Main Dishes</td>\n",
       "      <td>Barbecue</td>\n",
       "      <td>['1 pound lean ground beef', '1 tablespoon Wor...</td>\n",
       "    </tr>\n",
       "  </tbody>\n",
       "</table>\n",
       "</div>"
      ],
      "text/plain": [
       "                                           recipe_id  \\\n",
       "0                            Mushroom-risotto-352492   \n",
       "1                   Filipino-bbq-pork-skewers-352163   \n",
       "2         Mushroom-and-Roasted-Garlic-Risotto-525026   \n",
       "3  Gratin-Dauphinois-_scalloped-Potatoes-With-Che...   \n",
       "4            Delicious-Grilled-Hamburgers-Allrecipes   \n",
       "\n",
       "                                                name  totalTime       course  \\\n",
       "0                                   Mushroom Risotto     1800.0  Side Dishes   \n",
       "1                          Filipino BBQ Pork Skewers     2400.0  Main Dishes   \n",
       "2                Mushroom and Roasted Garlic Risotto     5100.0  Main Dishes   \n",
       "3  Gratin Dauphinois (Scalloped Potatoes with Che...     3300.0  Side Dishes   \n",
       "4                       Delicious Grilled Hamburgers      900.0  Main Dishes   \n",
       "\n",
       "    cuisine                                        ingredients  \n",
       "0   Italian  ['2 cups Baby Bella mushrooms, sliced', '2 cup...  \n",
       "1  Barbecue  ['2.5 lb pork country style ribs, all fat trim...  \n",
       "2   Italian  ['2 whole garlic heads', '2 tablespoons plus 2...  \n",
       "3    French  ['1 garlic clove, halved', 'Cooking spray', '6...  \n",
       "4  Barbecue  ['1 pound lean ground beef', '1 tablespoon Wor...  "
      ]
     },
     "execution_count": 6,
     "metadata": {},
     "output_type": "execute_result"
    }
   ],
   "source": [
    "recipes = pd.read_csv('recipes.csv')\n",
    "recipes.head()"
   ]
  },
  {
   "cell_type": "code",
   "execution_count": 7,
   "metadata": {
    "collapsed": false
   },
   "outputs": [
    {
     "data": {
      "text/html": [
       "<div>\n",
       "<style scoped>\n",
       "    .dataframe tbody tr th:only-of-type {\n",
       "        vertical-align: middle;\n",
       "    }\n",
       "\n",
       "    .dataframe tbody tr th {\n",
       "        vertical-align: top;\n",
       "    }\n",
       "\n",
       "    .dataframe thead th {\n",
       "        text-align: right;\n",
       "    }\n",
       "</style>\n",
       "<table border=\"1\" class=\"dataframe\">\n",
       "  <thead>\n",
       "    <tr style=\"text-align: right;\">\n",
       "      <th></th>\n",
       "      <th></th>\n",
       "      <th>description</th>\n",
       "      <th>unit_name</th>\n",
       "      <th>unit_abbreviation</th>\n",
       "      <th>value</th>\n",
       "    </tr>\n",
       "    <tr>\n",
       "      <th>recipe_id</th>\n",
       "      <th>attribute</th>\n",
       "      <th></th>\n",
       "      <th></th>\n",
       "      <th></th>\n",
       "      <th></th>\n",
       "    </tr>\n",
       "  </thead>\n",
       "  <tbody>\n",
       "    <tr>\n",
       "      <th rowspan=\"10\" valign=\"top\">Mushroom-risotto-352492</th>\n",
       "      <th>FAT_KCAL</th>\n",
       "      <td>NaN</td>\n",
       "      <td>calorie</td>\n",
       "      <td>kcal</td>\n",
       "      <td>80.00</td>\n",
       "    </tr>\n",
       "    <tr>\n",
       "      <th>FAPU</th>\n",
       "      <td>Fatty acids, total polyunsaturated</td>\n",
       "      <td>gram</td>\n",
       "      <td>g</td>\n",
       "      <td>0.24</td>\n",
       "    </tr>\n",
       "    <tr>\n",
       "      <th>CAMD5</th>\n",
       "      <td>Campesterol</td>\n",
       "      <td>gram</td>\n",
       "      <td>g</td>\n",
       "      <td>0.00</td>\n",
       "    </tr>\n",
       "    <tr>\n",
       "      <th>FOLDFE</th>\n",
       "      <td>Folate, DFE</td>\n",
       "      <td>mcg_DFE</td>\n",
       "      <td>mcg_DFE</td>\n",
       "      <td>298.07</td>\n",
       "    </tr>\n",
       "    <tr>\n",
       "      <th>FOLFD</th>\n",
       "      <td>Folate, food</td>\n",
       "      <td>gram</td>\n",
       "      <td>g</td>\n",
       "      <td>0.00</td>\n",
       "    </tr>\n",
       "    <tr>\n",
       "      <th>MN</th>\n",
       "      <td>Manganese, Mn</td>\n",
       "      <td>gram</td>\n",
       "      <td>g</td>\n",
       "      <td>0.00</td>\n",
       "    </tr>\n",
       "    <tr>\n",
       "      <th>TOCPHA</th>\n",
       "      <td>Vitamin E (alpha-tocopherol)</td>\n",
       "      <td>gram</td>\n",
       "      <td>g</td>\n",
       "      <td>0.00</td>\n",
       "    </tr>\n",
       "    <tr>\n",
       "      <th>FAMS</th>\n",
       "      <td>Fatty acids, total monounsaturated</td>\n",
       "      <td>gram</td>\n",
       "      <td>g</td>\n",
       "      <td>4.79</td>\n",
       "    </tr>\n",
       "    <tr>\n",
       "      <th>VITC</th>\n",
       "      <td>Vitamin C, total ascorbic acid</td>\n",
       "      <td>gram</td>\n",
       "      <td>g</td>\n",
       "      <td>0.01</td>\n",
       "    </tr>\n",
       "    <tr>\n",
       "      <th>CARTB</th>\n",
       "      <td>Carotene, beta</td>\n",
       "      <td>gram</td>\n",
       "      <td>g</td>\n",
       "      <td>0.00</td>\n",
       "    </tr>\n",
       "  </tbody>\n",
       "</table>\n",
       "</div>"
      ],
      "text/plain": [
       "                                                          description  \\\n",
       "recipe_id               attribute                                       \n",
       "Mushroom-risotto-352492 FAT_KCAL                                  NaN   \n",
       "                        FAPU       Fatty acids, total polyunsaturated   \n",
       "                        CAMD5                             Campesterol   \n",
       "                        FOLDFE                            Folate, DFE   \n",
       "                        FOLFD                            Folate, food   \n",
       "                        MN                              Manganese, Mn   \n",
       "                        TOCPHA           Vitamin E (alpha-tocopherol)   \n",
       "                        FAMS       Fatty acids, total monounsaturated   \n",
       "                        VITC           Vitamin C, total ascorbic acid   \n",
       "                        CARTB                          Carotene, beta   \n",
       "\n",
       "                                  unit_name unit_abbreviation   value  \n",
       "recipe_id               attribute                                      \n",
       "Mushroom-risotto-352492 FAT_KCAL    calorie              kcal   80.00  \n",
       "                        FAPU           gram                 g    0.24  \n",
       "                        CAMD5          gram                 g    0.00  \n",
       "                        FOLDFE      mcg_DFE           mcg_DFE  298.07  \n",
       "                        FOLFD          gram                 g    0.00  \n",
       "                        MN             gram                 g    0.00  \n",
       "                        TOCPHA         gram                 g    0.00  \n",
       "                        FAMS           gram                 g    4.79  \n",
       "                        VITC           gram                 g    0.01  \n",
       "                        CARTB          gram                 g    0.00  "
      ]
     },
     "execution_count": 7,
     "metadata": {},
     "output_type": "execute_result"
    }
   ],
   "source": [
    "nutrition = pd.read_csv('nutrition.csv')\n",
    "filtered_nutrition = nutrition[['recipe_id', 'attribute', 'description', 'unit_name', 'unit_abbreviation', 'value']]\n",
    "filtered_nutrition = filtered_nutrition.set_index(['recipe_id', 'attribute'])\n",
    "filtered_nutrition.head(10)"
   ]
  },
  {
   "cell_type": "markdown",
   "metadata": {},
   "source": [
    "We now build the recommendation system that will be used later on to make the recommendations based on the given constraints "
   ]
  },
  {
   "cell_type": "code",
   "execution_count": 8,
   "metadata": {
    "collapsed": false
   },
   "outputs": [
    {
     "name": "stdout",
     "output_type": "stream",
     "text": [
      "Number of ratings = 5037 | Number of users = 4328 | Number of recipes = 2351\n"
     ]
    }
   ],
   "source": [
    "n_users = reviews.user.unique().shape[0]\n",
    "n_items = reviews.recipe_id.unique().shape[0]\n",
    "n_rates = reviews.shape[0]\n",
    "print('Number of ratings = {} | Number of users = {} | Number of recipes = {}'.format(n_rates, n_users, n_items))"
   ]
  },
  {
   "cell_type": "code",
   "execution_count": 9,
   "metadata": {
    "collapsed": true
   },
   "outputs": [],
   "source": [
    "''' \n",
    "We now build dictionnaries to map users to integers between 0 and n_users-1 \n",
    "and recipes to integers between 0 and n_items-1 to use them as indices to build the data matrices\n",
    "'''\n",
    "user2id = dict(zip(reviews.user.unique(), range(n_users)))\n",
    "recipe2id = dict(zip(reviews.recipe_id.unique(), range(n_items)))\n",
    "\n",
    "# inverse mapping\n",
    "id2user = dict(zip(range(n_users), reviews.user.unique()))\n",
    "id2recipe = dict(zip(range(n_items), reviews.recipe_id.unique()))\n",
    "\n",
    "# Another useful dictionnary to map recipes ID to their names\n",
    "recipe2name = dict(zip(recipes.recipe_id, recipes.name))"
   ]
  },
  {
   "cell_type": "code",
   "execution_count": 19,
   "metadata": {
    "collapsed": false
   },
   "outputs": [],
   "source": [
    "# Split the data in training and testing data\n",
    "from sklearn.cross_validation import train_test_split\n",
    "train_data, test_data = train_test_split(reviews, test_size=0.2)"
   ]
  },
  {
   "cell_type": "code",
   "execution_count": 11,
   "metadata": {
    "collapsed": true
   },
   "outputs": [],
   "source": [
    "#Create two user-item matrices, one for training and another for testing\n",
    "train_data_matrix = np.zeros((n_users, n_items))\n",
    "for line in train_data.itertuples():\n",
    "    userID = user2id[line[1]]\n",
    "    recipeID = recipe2id[line[2]]\n",
    "    train_data_matrix[userID, recipeID] = line[3]\n",
    "\n",
    "test_data_matrix = np.zeros((n_users, n_items))\n",
    "for line in test_data.itertuples():\n",
    "    userID = user2id[line[1]]\n",
    "    recipeID = recipe2id[line[2]]\n",
    "    test_data_matrix[userID, recipeID] = line[3]"
   ]
  },
  {
   "cell_type": "code",
   "execution_count": 12,
   "metadata": {
    "collapsed": true
   },
   "outputs": [],
   "source": [
    "# Compute similarity using the well known cosine similarity in two different ways: \n",
    "# user-item or item-item Collaborative Filtering \n",
    "from sklearn.metrics.pairwise import pairwise_distances\n",
    "user_similarity = pairwise_distances(train_data_matrix, metric='cosine')\n",
    "item_similarity = pairwise_distances(train_data_matrix.T, metric='cosine')"
   ]
  },
  {
   "cell_type": "code",
   "execution_count": 13,
   "metadata": {
    "collapsed": true
   },
   "outputs": [],
   "source": [
    "'''\n",
    "Define two functions. One to make the predictions based on the data and similarities, \n",
    "and the other one to measure their performances which computes the RMSE\n",
    "'''\n",
    "\n",
    "def predict(ratings, similarity, type):\n",
    "    if type == 'user':\n",
    "        n_rates_for_user = np.sum(ratings>0, axis=1)\n",
    "        mean_user_rating = ratings.mean(axis=1)        #*(n_items/n_rates_for_user)\n",
    "        ratings_diff = (ratings - mean_user_rating[:, np.newaxis])\n",
    "        pred = mean_user_rating[:, np.newaxis] + similarity.dot(ratings_diff) / np.array([np.abs(similarity).sum(axis=1)]).T\n",
    "    elif type == 'item':\n",
    "        pred = ratings.dot(similarity) / np.array([np.abs(similarity).sum(axis=1)])\n",
    "    return pred\n",
    "\n",
    "\n",
    "from sklearn.metrics import mean_squared_error\n",
    "from math import sqrt\n",
    "def rmse(prediction, ground_truth):\n",
    "    prediction = prediction[ground_truth.nonzero()].flatten()\n",
    "    ground_truth = ground_truth[ground_truth.nonzero()].flatten()\n",
    "    return sqrt(mean_squared_error(prediction, ground_truth))"
   ]
  },
  {
   "cell_type": "code",
   "execution_count": 14,
   "metadata": {
    "collapsed": true
   },
   "outputs": [],
   "source": [
    "# Make the predictions\n",
    "item_prediction = predict(train_data_matrix, item_similarity, type='item')\n",
    "user_prediction = predict(train_data_matrix, user_similarity, type='user')"
   ]
  },
  {
   "cell_type": "code",
   "execution_count": 15,
   "metadata": {
    "collapsed": false
   },
   "outputs": [
    {
     "name": "stdout",
     "output_type": "stream",
     "text": [
      "The sparsity level of our data is 99.95049693723755 %\n"
     ]
    }
   ],
   "source": [
    "sparsity= 1.0 - len(reviews)/float(n_users*n_items)\n",
    "print('The sparsity level of our data is', sparsity*100, '%')"
   ]
  },
  {
   "cell_type": "code",
   "execution_count": 16,
   "metadata": {
    "collapsed": false
   },
   "outputs": [
    {
     "name": "stdout",
     "output_type": "stream",
     "text": [
      "min number of ratings: 0 | average number of ratings: 0.9 | max number of ratings 8\n"
     ]
    }
   ],
   "source": [
    "n_rates_for_user = np.sum(train_data_matrix>0, axis=1)\n",
    "print('min number of ratings: {} | average number of ratings: {} | max number of ratings {}'\n",
    "      .format(min(n_rates_for_user), round(np.mean(n_rates_for_user),2), max(n_rates_for_user)))"
   ]
  },
  {
   "cell_type": "markdown",
   "metadata": {},
   "source": [
    "Unfortunately, as you can see, our data is very sparse. Hence the proposed methods above (Memory-Based Collaborative Filtering) work poorly. Thus, we will use another method using matrix factorization (SVD), namely Model-based Collaborative Filtering."
   ]
  },
  {
   "cell_type": "code",
   "execution_count": 17,
   "metadata": {
    "collapsed": true
   },
   "outputs": [],
   "source": [
    "import scipy.sparse as sp\n",
    "from scipy.sparse.linalg import svds\n",
    "\n",
    "#get SVD components from train matrix. \n",
    "u, s, vt = svds(train_data_matrix)\n",
    "s_diag_matrix=np.diag(s)\n",
    "X_pred = np.dot(np.dot(u, s_diag_matrix), vt)"
   ]
  },
  {
   "cell_type": "code",
   "execution_count": 36,
   "metadata": {
    "collapsed": false
   },
   "outputs": [
    {
     "name": "stdout",
     "output_type": "stream",
     "text": [
      "recommendation for user ThePastoreFamily : Easy Chicken Enchilada Casserole\n",
      "recommendation for user CharlesFields65772 : Better than Takeout Chicken Fried Rice\n",
      "recommendation for user GinaPappas703235 : {Easy Dinner Recipe} Italian Chicken Bake\n"
     ]
    }
   ],
   "source": [
    "# choose randomly N users and predict them a recipe they could like\n",
    "N = 3\n",
    "np.random.seed(42)\n",
    "userIDs = np.random.randint(n_users, size=N)\n",
    "for uid in userIDs:\n",
    "    bestRecipeID = np.argmax(X_pred[uid])\n",
    "    print('recommendation for user {} : {}'.format(id2user[uid], recipe2name[id2recipe[bestRecipeID]]))"
   ]
  },
  {
   "cell_type": "markdown",
   "metadata": {},
   "source": [
    "# Nutrition visualization\n",
    "\n",
    "## Our data about nutrition\n",
    "\n",
    "The **nutrition.csv** file contains informations about the nutrients of each recipe. It can be used to determine how healthy some food is and to recommend the right recipe to an user who wants to eat healthy meals for example. However, most people don't know how to read that kind of informations, don't know how many grams of proteins they should eat everyday, and can't see the difference between bad fats and good fats. That's why we want an easy way to visualize the quantity of nutrients compared to the daily value references and how healthy a recipe is. The raw file **nutrition.csv** is somewhat messy and we will have to clean it a little bit."
   ]
  },
  {
   "cell_type": "code",
   "execution_count": 50,
   "metadata": {
    "collapsed": false,
    "scrolled": true
   },
   "outputs": [
    {
     "name": "stdout",
     "output_type": "stream",
     "text": [
      "The columns are : Index(['description', 'unit_abbreviation', 'unit_decimal', 'unit_name',\n",
      "       'unit_plural', 'unit_pluralAbbreviation', 'value'],\n",
      "      dtype='object')\n"
     ]
    },
    {
     "data": {
      "text/html": [
       "<div>\n",
       "<style>\n",
       "    .dataframe thead tr:only-child th {\n",
       "        text-align: right;\n",
       "    }\n",
       "\n",
       "    .dataframe thead th {\n",
       "        text-align: left;\n",
       "    }\n",
       "\n",
       "    .dataframe tbody tr th {\n",
       "        vertical-align: top;\n",
       "    }\n",
       "</style>\n",
       "<table border=\"1\" class=\"dataframe\">\n",
       "  <thead>\n",
       "    <tr style=\"text-align: right;\">\n",
       "      <th></th>\n",
       "      <th></th>\n",
       "      <th>description</th>\n",
       "      <th>unit_abbreviation</th>\n",
       "      <th>unit_decimal</th>\n",
       "      <th>unit_name</th>\n",
       "      <th>unit_plural</th>\n",
       "      <th>unit_pluralAbbreviation</th>\n",
       "      <th>value</th>\n",
       "    </tr>\n",
       "    <tr>\n",
       "      <th>recipe_id</th>\n",
       "      <th>attribute</th>\n",
       "      <th></th>\n",
       "      <th></th>\n",
       "      <th></th>\n",
       "      <th></th>\n",
       "      <th></th>\n",
       "      <th></th>\n",
       "      <th></th>\n",
       "    </tr>\n",
       "  </thead>\n",
       "  <tbody>\n",
       "    <tr>\n",
       "      <th rowspan=\"5\" valign=\"top\">Mushroom-risotto-352492</th>\n",
       "      <th>FAT_KCAL</th>\n",
       "      <td>NaN</td>\n",
       "      <td>kcal</td>\n",
       "      <td>True</td>\n",
       "      <td>calorie</td>\n",
       "      <td>calories</td>\n",
       "      <td>kcal</td>\n",
       "      <td>80.00</td>\n",
       "    </tr>\n",
       "    <tr>\n",
       "      <th>FAPU</th>\n",
       "      <td>Fatty acids, total polyunsaturated</td>\n",
       "      <td>g</td>\n",
       "      <td>True</td>\n",
       "      <td>gram</td>\n",
       "      <td>grams</td>\n",
       "      <td>grams</td>\n",
       "      <td>0.24</td>\n",
       "    </tr>\n",
       "    <tr>\n",
       "      <th>CAMD5</th>\n",
       "      <td>Campesterol</td>\n",
       "      <td>g</td>\n",
       "      <td>True</td>\n",
       "      <td>gram</td>\n",
       "      <td>grams</td>\n",
       "      <td>grams</td>\n",
       "      <td>0.00</td>\n",
       "    </tr>\n",
       "    <tr>\n",
       "      <th>FOLDFE</th>\n",
       "      <td>Folate, DFE</td>\n",
       "      <td>mcg_DFE</td>\n",
       "      <td>False</td>\n",
       "      <td>mcg_DFE</td>\n",
       "      <td>mcg_DFE</td>\n",
       "      <td>mcg_DFE</td>\n",
       "      <td>298.07</td>\n",
       "    </tr>\n",
       "    <tr>\n",
       "      <th>FOLFD</th>\n",
       "      <td>Folate, food</td>\n",
       "      <td>g</td>\n",
       "      <td>True</td>\n",
       "      <td>gram</td>\n",
       "      <td>grams</td>\n",
       "      <td>grams</td>\n",
       "      <td>0.00</td>\n",
       "    </tr>\n",
       "  </tbody>\n",
       "</table>\n",
       "</div>"
      ],
      "text/plain": [
       "                                                          description  \\\n",
       "recipe_id               attribute                                       \n",
       "Mushroom-risotto-352492 FAT_KCAL                                  NaN   \n",
       "                        FAPU       Fatty acids, total polyunsaturated   \n",
       "                        CAMD5                             Campesterol   \n",
       "                        FOLDFE                            Folate, DFE   \n",
       "                        FOLFD                            Folate, food   \n",
       "\n",
       "                                  unit_abbreviation  unit_decimal unit_name  \\\n",
       "recipe_id               attribute                                             \n",
       "Mushroom-risotto-352492 FAT_KCAL               kcal          True   calorie   \n",
       "                        FAPU                      g          True      gram   \n",
       "                        CAMD5                     g          True      gram   \n",
       "                        FOLDFE              mcg_DFE         False   mcg_DFE   \n",
       "                        FOLFD                     g          True      gram   \n",
       "\n",
       "                                  unit_plural unit_pluralAbbreviation   value  \n",
       "recipe_id               attribute                                              \n",
       "Mushroom-risotto-352492 FAT_KCAL     calories                    kcal   80.00  \n",
       "                        FAPU            grams                   grams    0.24  \n",
       "                        CAMD5           grams                   grams    0.00  \n",
       "                        FOLDFE        mcg_DFE                 mcg_DFE  298.07  \n",
       "                        FOLFD           grams                   grams    0.00  "
      ]
     },
     "execution_count": 50,
     "metadata": {},
     "output_type": "execute_result"
    }
   ],
   "source": [
    "nutrition = pd.read_csv('nutrition.csv', index_col=['recipe_id','attribute'], usecols=['recipe_id', 'attribute','description','unit_abbreviation','unit_decimal','unit_name','unit_plural','unit_pluralAbbreviation',  'value'])\n",
    "print('The columns are : ' + str(nutrition.columns))\n",
    "nutrition.head()"
   ]
  },
  {
   "cell_type": "markdown",
   "metadata": {},
   "source": [
    "We have several columns showing the nutritional informations we need about the recipes. The indexing is not unique because our original Yummly dataset had some duplicate values: we will just drop the duplicates from the data frame to make it unique."
   ]
  },
  {
   "cell_type": "code",
   "execution_count": 51,
   "metadata": {
    "collapsed": false
   },
   "outputs": [
    {
     "name": "stdout",
     "output_type": "stream",
     "text": [
      "Is the index unique : False\n"
     ]
    }
   ],
   "source": [
    "print('Is the index unique : ' + str(nutrition.index.is_unique))"
   ]
  },
  {
   "cell_type": "code",
   "execution_count": 52,
   "metadata": {
    "collapsed": false
   },
   "outputs": [
    {
     "name": "stdout",
     "output_type": "stream",
     "text": [
      "Is the new index unique : True\n"
     ]
    }
   ],
   "source": [
    "nutrition = nutrition[~nutrition.index.duplicated(keep='first')]\n",
    "print('Is the new index unique : ' + str(nutrition.index.is_unique))"
   ]
  },
  {
   "cell_type": "code",
   "execution_count": 53,
   "metadata": {
    "collapsed": true
   },
   "outputs": [],
   "source": [
    "nutrition.reset_index(inplace=True)"
   ]
  },
  {
   "cell_type": "markdown",
   "metadata": {},
   "source": [
    "We can check that the attribute corresponding to the description 'Sodium Na' is **NaN** so we replace it with a proper value. It is the only one missing in the data frame (as well as the descriptions for the fat calories but they are not really important for now)."
   ]
  },
  {
   "cell_type": "code",
   "execution_count": 54,
   "metadata": {
    "collapsed": true
   },
   "outputs": [],
   "source": [
    "nutrition.loc[nutrition['attribute'].isnull(), ['attribute']] = 'SOD'"
   ]
  },
  {
   "cell_type": "markdown",
   "metadata": {},
   "source": [
    "Let's use the recipe_id and the attributes as index :"
   ]
  },
  {
   "cell_type": "code",
   "execution_count": 55,
   "metadata": {
    "collapsed": false
   },
   "outputs": [
    {
     "data": {
      "text/html": [
       "<div>\n",
       "<style>\n",
       "    .dataframe thead tr:only-child th {\n",
       "        text-align: right;\n",
       "    }\n",
       "\n",
       "    .dataframe thead th {\n",
       "        text-align: left;\n",
       "    }\n",
       "\n",
       "    .dataframe tbody tr th {\n",
       "        vertical-align: top;\n",
       "    }\n",
       "</style>\n",
       "<table border=\"1\" class=\"dataframe\">\n",
       "  <thead>\n",
       "    <tr style=\"text-align: right;\">\n",
       "      <th></th>\n",
       "      <th></th>\n",
       "      <th>description</th>\n",
       "      <th>unit_abbreviation</th>\n",
       "      <th>unit_decimal</th>\n",
       "      <th>unit_name</th>\n",
       "      <th>unit_plural</th>\n",
       "      <th>unit_pluralAbbreviation</th>\n",
       "      <th>value</th>\n",
       "    </tr>\n",
       "    <tr>\n",
       "      <th>recipe_id</th>\n",
       "      <th>attribute</th>\n",
       "      <th></th>\n",
       "      <th></th>\n",
       "      <th></th>\n",
       "      <th></th>\n",
       "      <th></th>\n",
       "      <th></th>\n",
       "      <th></th>\n",
       "    </tr>\n",
       "  </thead>\n",
       "  <tbody>\n",
       "    <tr>\n",
       "      <th rowspan=\"5\" valign=\"top\">Mushroom-risotto-352492</th>\n",
       "      <th>FAT_KCAL</th>\n",
       "      <td>NaN</td>\n",
       "      <td>kcal</td>\n",
       "      <td>True</td>\n",
       "      <td>calorie</td>\n",
       "      <td>calories</td>\n",
       "      <td>kcal</td>\n",
       "      <td>80.00</td>\n",
       "    </tr>\n",
       "    <tr>\n",
       "      <th>FAPU</th>\n",
       "      <td>Fatty acids, total polyunsaturated</td>\n",
       "      <td>g</td>\n",
       "      <td>True</td>\n",
       "      <td>gram</td>\n",
       "      <td>grams</td>\n",
       "      <td>grams</td>\n",
       "      <td>0.24</td>\n",
       "    </tr>\n",
       "    <tr>\n",
       "      <th>CAMD5</th>\n",
       "      <td>Campesterol</td>\n",
       "      <td>g</td>\n",
       "      <td>True</td>\n",
       "      <td>gram</td>\n",
       "      <td>grams</td>\n",
       "      <td>grams</td>\n",
       "      <td>0.00</td>\n",
       "    </tr>\n",
       "    <tr>\n",
       "      <th>FOLDFE</th>\n",
       "      <td>Folate, DFE</td>\n",
       "      <td>mcg_DFE</td>\n",
       "      <td>False</td>\n",
       "      <td>mcg_DFE</td>\n",
       "      <td>mcg_DFE</td>\n",
       "      <td>mcg_DFE</td>\n",
       "      <td>298.07</td>\n",
       "    </tr>\n",
       "    <tr>\n",
       "      <th>FOLFD</th>\n",
       "      <td>Folate, food</td>\n",
       "      <td>g</td>\n",
       "      <td>True</td>\n",
       "      <td>gram</td>\n",
       "      <td>grams</td>\n",
       "      <td>grams</td>\n",
       "      <td>0.00</td>\n",
       "    </tr>\n",
       "  </tbody>\n",
       "</table>\n",
       "</div>"
      ],
      "text/plain": [
       "                                                          description  \\\n",
       "recipe_id               attribute                                       \n",
       "Mushroom-risotto-352492 FAT_KCAL                                  NaN   \n",
       "                        FAPU       Fatty acids, total polyunsaturated   \n",
       "                        CAMD5                             Campesterol   \n",
       "                        FOLDFE                            Folate, DFE   \n",
       "                        FOLFD                            Folate, food   \n",
       "\n",
       "                                  unit_abbreviation  unit_decimal unit_name  \\\n",
       "recipe_id               attribute                                             \n",
       "Mushroom-risotto-352492 FAT_KCAL               kcal          True   calorie   \n",
       "                        FAPU                      g          True      gram   \n",
       "                        CAMD5                     g          True      gram   \n",
       "                        FOLDFE              mcg_DFE         False   mcg_DFE   \n",
       "                        FOLFD                     g          True      gram   \n",
       "\n",
       "                                  unit_plural unit_pluralAbbreviation   value  \n",
       "recipe_id               attribute                                              \n",
       "Mushroom-risotto-352492 FAT_KCAL     calories                    kcal   80.00  \n",
       "                        FAPU            grams                   grams    0.24  \n",
       "                        CAMD5           grams                   grams    0.00  \n",
       "                        FOLDFE        mcg_DFE                 mcg_DFE  298.07  \n",
       "                        FOLFD           grams                   grams    0.00  "
      ]
     },
     "execution_count": 55,
     "metadata": {},
     "output_type": "execute_result"
    }
   ],
   "source": [
    "nutrition.set_index(['recipe_id', 'attribute'], drop=True, inplace=True)\n",
    "nutrition.head()"
   ]
  },
  {
   "cell_type": "markdown",
   "metadata": {},
   "source": [
    "## Daily Value reference of the Dietary\n",
    "\n",
    "The daily value references are based on a 2,000 calories diet and can be adapted proportionally to any people. We are using here the values for adult people (and non-pregnant women). These values can be found here : https://www.dsld.nlm.nih.gov/dsld/dailyvalue.jsp."
   ]
  },
  {
   "cell_type": "code",
   "execution_count": 56,
   "metadata": {
    "collapsed": true
   },
   "outputs": [],
   "source": [
    "nutrients = ['Total fat', 'Saturated fatty acids', 'Cholesterol', 'Sodium', 'Potassium', 'Total carbohydrate', 'Fiber', 'Protein', 'Vitamin A', 'Vitamin C', 'Calcium', 'Iron', 'Vitamin D', 'Vitamin E', 'Vitamin K', 'Thiamin', 'Riboflavin', 'Niacin', 'Vitamin B6', 'Folate', 'Vitamin B12', 'Biotin', 'Pantothenic acid', 'Phosphorus', 'Iodine', 'Magnesium', 'Zinc', 'Selenium', 'Copper', 'Manganese']\n",
    "units = ['grams (g)', 'grams (g)', 'milligrams (mg)', 'milligrams (mg)', 'milligrams (mg)', 'grams (g)', 'grams (g)', 'grams (g)', 'International Unit (IU)', 'milligrams (mg)', 'milligrams (mg)', 'milligrams (mg)', 'International Unit (IU)', 'International Unit (IU)', 'micrograms (µg)', 'milligrams (mg)', 'milligrams (mg)', 'milligrams (mg)', 'milligrams (mg)', 'micrograms (µg)', 'micrograms (µg)', 'micrograms (µg)', 'milligrams (mg)', 'milligrams (mg)', 'micrograms (µg)', 'milligrams (mg)', 'milligrams (mg)', 'micrograms (µg)', 'milligrams (mg)', 'milligrams (mg)']\n",
    "values = [65, 20, 300, 2400, 3500, 300, 25, 50, 5000, 60, 1000, 18, 400, 30, 80, 1.5, 1.7, 20, 2.0, 400, 6.0, 300, 10, 1000, 150, 400, 15, 70, 2.0, 2.0]"
   ]
  },
  {
   "cell_type": "code",
   "execution_count": 57,
   "metadata": {
    "collapsed": false
   },
   "outputs": [
    {
     "name": "stdout",
     "output_type": "stream",
     "text": [
      "There are 30 nutrients defining the daily reference.\n"
     ]
    },
    {
     "data": {
      "text/html": [
       "<div>\n",
       "<style>\n",
       "    .dataframe thead tr:only-child th {\n",
       "        text-align: right;\n",
       "    }\n",
       "\n",
       "    .dataframe thead th {\n",
       "        text-align: left;\n",
       "    }\n",
       "\n",
       "    .dataframe tbody tr th {\n",
       "        vertical-align: top;\n",
       "    }\n",
       "</style>\n",
       "<table border=\"1\" class=\"dataframe\">\n",
       "  <thead>\n",
       "    <tr style=\"text-align: right;\">\n",
       "      <th></th>\n",
       "      <th>Nutrient</th>\n",
       "      <th>Unit</th>\n",
       "      <th>Value</th>\n",
       "    </tr>\n",
       "  </thead>\n",
       "  <tbody>\n",
       "    <tr>\n",
       "      <th>0</th>\n",
       "      <td>Total fat</td>\n",
       "      <td>grams (g)</td>\n",
       "      <td>65.0</td>\n",
       "    </tr>\n",
       "    <tr>\n",
       "      <th>1</th>\n",
       "      <td>Saturated fatty acids</td>\n",
       "      <td>grams (g)</td>\n",
       "      <td>20.0</td>\n",
       "    </tr>\n",
       "    <tr>\n",
       "      <th>2</th>\n",
       "      <td>Cholesterol</td>\n",
       "      <td>milligrams (mg)</td>\n",
       "      <td>300.0</td>\n",
       "    </tr>\n",
       "    <tr>\n",
       "      <th>3</th>\n",
       "      <td>Sodium</td>\n",
       "      <td>milligrams (mg)</td>\n",
       "      <td>2400.0</td>\n",
       "    </tr>\n",
       "    <tr>\n",
       "      <th>4</th>\n",
       "      <td>Potassium</td>\n",
       "      <td>milligrams (mg)</td>\n",
       "      <td>3500.0</td>\n",
       "    </tr>\n",
       "  </tbody>\n",
       "</table>\n",
       "</div>"
      ],
      "text/plain": [
       "                Nutrient             Unit   Value\n",
       "0              Total fat        grams (g)    65.0\n",
       "1  Saturated fatty acids        grams (g)    20.0\n",
       "2            Cholesterol  milligrams (mg)   300.0\n",
       "3                 Sodium  milligrams (mg)  2400.0\n",
       "4              Potassium  milligrams (mg)  3500.0"
      ]
     },
     "execution_count": 57,
     "metadata": {},
     "output_type": "execute_result"
    }
   ],
   "source": [
    "dvr = pd.DataFrame(data={'Nutrient': nutrients, 'Unit': units, 'Value': values})\n",
    "print('There are {} nutrients defining the daily reference.'.format(len(dvr)))\n",
    "dvr.head()"
   ]
  },
  {
   "cell_type": "markdown",
   "metadata": {},
   "source": [
    "Only 30 nutrients are here used for the daily reference and the **nutrition** data frame contains some very precise informations describing 78 nutrients. Moreover most of the names or units don't match so we can't directly work with it. That's why we will keep only the most relevant informations and match the names.\n",
    "\n",
    "We can try to automatically match the nutrient column from the dvr data frame with the description column from the nutrition data frame but most of the matchs are wrong. Moreover some names of vitamins are can change in different countries so we have to do most of the work by hand."
   ]
  },
  {
   "cell_type": "code",
   "execution_count": 58,
   "metadata": {
    "collapsed": true
   },
   "outputs": [],
   "source": [
    "from nltk import metrics, stem, tokenize, edit_distance\n",
    " \n",
    "stemmer = stem.PorterStemmer()\n",
    " \n",
    "def normalize(s):\n",
    "    words = tokenize.wordpunct_tokenize(s.lower().strip())\n",
    "    return ' '.join([stemmer.stem(w) for w in words])\n",
    " \n",
    "def fuzzy_match(s1, s2, max_dist=3):\n",
    "    if not isinstance(s1, str) or not isinstance(s2, str):\n",
    "        return np.inf\n",
    "    return edit_distance(normalize(s1), normalize(s2))"
   ]
  },
  {
   "cell_type": "code",
   "execution_count": 59,
   "metadata": {
    "collapsed": false
   },
   "outputs": [
    {
     "data": {
      "text/plain": [
       "{'Biotin': 'Niacin',\n",
       " 'Calcium': 'Valine',\n",
       " 'Cholesterol': 'Cholesterol',\n",
       " 'Copper': 'Water',\n",
       " 'Fiber': 'Water',\n",
       " 'Folate': 'Proline',\n",
       " 'Iodine': 'Valine',\n",
       " 'Iron': 'Serine',\n",
       " 'Magnesium': 'Magnesium, Mg',\n",
       " 'Manganese': 'Alanine',\n",
       " 'Niacin': 'Niacin',\n",
       " 'Pantothenic acid': 'Pantothenic acid',\n",
       " 'Phosphorus': 'Phosphorus, P',\n",
       " 'Potassium': 'Potassium, K',\n",
       " 'Protein': 'Protein',\n",
       " 'Riboflavin': 'Proline',\n",
       " 'Saturated fatty acids': 'Aspartic acid',\n",
       " 'Selenium': 'Selenium, Se',\n",
       " 'Sodium': 'Serine',\n",
       " 'Thiamin': 'Thiamin',\n",
       " 'Total carbohydrate': 'Folate, food',\n",
       " 'Total fat': 'Iron, Fe',\n",
       " 'Vitamin A': 'Vitamin D',\n",
       " 'Vitamin B12': 'Vitamin D',\n",
       " 'Vitamin B6': 'Vitamin D',\n",
       " 'Vitamin C': 'Vitamin D',\n",
       " 'Vitamin D': 'Vitamin D',\n",
       " 'Vitamin E': 'Vitamin D',\n",
       " 'Vitamin K': 'Vitamin D',\n",
       " 'Zinc': 'Niacin'}"
      ]
     },
     "execution_count": 59,
     "metadata": {},
     "output_type": "execute_result"
    }
   ],
   "source": [
    "recipe_id = 'Mushroom-risotto-352492'\n",
    "df = nutrition.loc[recipe_id][['description', 'unit_abbreviation', 'unit_name', 'value']]\n",
    "matchs = {}\n",
    "for index1, row1 in dvr.iterrows():\n",
    "    distances = []\n",
    "    for index2, row2 in df.iterrows():\n",
    "        distances.append(fuzzy_match(row1[0], row2[0]))\n",
    "    argsort = np.argsort(distances)\n",
    "    matchs[row1[0]] = df.iloc[argsort[0]]['description']\n",
    "matchs"
   ]
  },
  {
   "cell_type": "markdown",
   "metadata": {},
   "source": [
    "We are here changing the wrong matchs by hand :"
   ]
  },
  {
   "cell_type": "code",
   "execution_count": 60,
   "metadata": {
    "collapsed": true
   },
   "outputs": [],
   "source": [
    "matchs['Calcium'] = 'Calcium, Ca'\n",
    "matchs['Copper'] = 'Copper, Cu'\n",
    "matchs['Fiber'] = 'Fiber, total dietary'\n",
    "matchs['Folate'] = 'Folate, DFE'\n",
    "matchs['Iron'] = 'Iron, Fe'\n",
    "matchs['Manganese'] = 'Manganese, Mn'\n",
    "matchs['Saturated fatty acids'] = 'Fatty acids, total saturated'\n",
    "matchs['Selenium'] = 'Selenium, Se'\n",
    "matchs['Sodium'] = 'Sodium, Na'\n",
    "matchs['Total carbohydrate'] = 'Carbohydrate, by difference'\n",
    "matchs['Total fat'] = 'Total lipid (fat)'\n",
    "matchs['Vitamin A'] = 'Vitamin A, IU'\n",
    "matchs['Vitamin B6'] = 'Vitamin B-6'\n",
    "matchs['Vitamin C'] = 'Vitamin C, total ascorbic acid'\n",
    "matchs['Vitamin E'] = 'Vitamin E (alpha-tocopherol)'\n",
    "matchs['Vitamin K'] = 'Vitamin K (phylloquinone)'\n",
    "matchs['Zinc'] = 'Zinc, Zn'\n",
    "\n",
    "#matchs['Biotin'] = #Vitamin B7 or H\n",
    "#matchs['Iodine'] = \n",
    "#12 Vitamin D\n",
    "#18 Vitamin B6\n",
    "#21 Biotin\n",
    "#24 Iodine"
   ]
  },
  {
   "cell_type": "markdown",
   "metadata": {},
   "source": [
    "Both biotin and iodine are not in the **nutrition** data frame. We can't use these nutrients to make the nutrition analysis. They are not major nutrients so it's not a real problem. We will also need the inverse mapping later :"
   ]
  },
  {
   "cell_type": "code",
   "execution_count": 61,
   "metadata": {
    "collapsed": true
   },
   "outputs": [],
   "source": [
    "del matchs['Biotin']\n",
    "del matchs['Iodine']\n",
    "\n",
    "inv_matchs = {v: k for k, v in matchs.items()}"
   ]
  },
  {
   "cell_type": "markdown",
   "metadata": {},
   "source": [
    "We are making here a clean version of nutrition which can be used easily and which is normalized considering the data frame **dvr**. Some computations are long so we saved the file."
   ]
  },
  {
   "cell_type": "code",
   "execution_count": 62,
   "metadata": {
    "collapsed": false
   },
   "outputs": [
    {
     "data": {
      "text/html": [
       "<div>\n",
       "<style>\n",
       "    .dataframe thead tr:only-child th {\n",
       "        text-align: right;\n",
       "    }\n",
       "\n",
       "    .dataframe thead th {\n",
       "        text-align: left;\n",
       "    }\n",
       "\n",
       "    .dataframe tbody tr th {\n",
       "        vertical-align: top;\n",
       "    }\n",
       "</style>\n",
       "<table border=\"1\" class=\"dataframe\">\n",
       "  <thead>\n",
       "    <tr style=\"text-align: right;\">\n",
       "      <th></th>\n",
       "      <th>recipe_id</th>\n",
       "      <th>Nutrient</th>\n",
       "      <th>Unit</th>\n",
       "      <th>Value</th>\n",
       "    </tr>\n",
       "  </thead>\n",
       "  <tbody>\n",
       "    <tr>\n",
       "      <th>0</th>\n",
       "      <td>Mushroom-risotto-352492</td>\n",
       "      <td>Folate</td>\n",
       "      <td>micrograms (µg)</td>\n",
       "      <td>298.07</td>\n",
       "    </tr>\n",
       "    <tr>\n",
       "      <th>1</th>\n",
       "      <td>Mushroom-risotto-352492</td>\n",
       "      <td>Manganese</td>\n",
       "      <td>grams (g)</td>\n",
       "      <td>0.00</td>\n",
       "    </tr>\n",
       "    <tr>\n",
       "      <th>2</th>\n",
       "      <td>Mushroom-risotto-352492</td>\n",
       "      <td>Vitamin E</td>\n",
       "      <td>grams (g)</td>\n",
       "      <td>0.00</td>\n",
       "    </tr>\n",
       "    <tr>\n",
       "      <th>3</th>\n",
       "      <td>Mushroom-risotto-352492</td>\n",
       "      <td>Vitamin C</td>\n",
       "      <td>grams (g)</td>\n",
       "      <td>0.01</td>\n",
       "    </tr>\n",
       "    <tr>\n",
       "      <th>4</th>\n",
       "      <td>Mushroom-risotto-352492</td>\n",
       "      <td>Cholesterol</td>\n",
       "      <td>grams (g)</td>\n",
       "      <td>0.02</td>\n",
       "    </tr>\n",
       "  </tbody>\n",
       "</table>\n",
       "</div>"
      ],
      "text/plain": [
       "                 recipe_id     Nutrient             Unit   Value\n",
       "0  Mushroom-risotto-352492       Folate  micrograms (µg)  298.07\n",
       "1  Mushroom-risotto-352492    Manganese        grams (g)    0.00\n",
       "2  Mushroom-risotto-352492    Vitamin E        grams (g)    0.00\n",
       "3  Mushroom-risotto-352492    Vitamin C        grams (g)    0.01\n",
       "4  Mushroom-risotto-352492  Cholesterol        grams (g)    0.02"
      ]
     },
     "execution_count": 62,
     "metadata": {},
     "output_type": "execute_result"
    }
   ],
   "source": [
    "df = nutrition.copy()\n",
    "\n",
    "df = df.loc[df['description'].isin(list(matchs.values()))]\n",
    "df['description'].replace(inv_matchs, inplace=True)\n",
    "\n",
    "df = df[['description', 'unit_name', 'value']]\n",
    "df.columns = ['Nutrient', 'Unit', 'Value']\n",
    "\n",
    "df['Unit'].replace({'gram': 'grams (g)', 'IU': 'International Unit (IU)', 'mcg_DFE': 'micrograms (µg)'}, inplace=True)\n",
    "\n",
    "df.reset_index(drop=False, inplace=True)\n",
    "df.drop('attribute', axis=1, inplace=True)\n",
    "\n",
    "df.head()"
   ]
  },
  {
   "cell_type": "markdown",
   "metadata": {},
   "source": [
    "The units of measurement are however most of the time not the same between the two data frame. We can easily convert the different multiples of grams and leave the international units (IU) as they are. But the vitamin E in **df** is in grams and it is in IU in **dvr**. For the vitamin E, there are two international units that can be used and we found out that the one in **dvr** corresponds to 1 IU = 0.45 mg of dl-alpha-tocopherol acetate."
   ]
  },
  {
   "cell_type": "code",
   "execution_count": 63,
   "metadata": {
    "collapsed": true
   },
   "outputs": [],
   "source": [
    "df.loc[df['Nutrient'] == 'Vitamin E', 'Unit'] = 'International Unit (IU)'\n",
    "df.loc[df['Nutrient'] == 'Vitamin E', 'Value'] = df.loc[df['Nutrient'] == 'Vitamin E', 'Value'] / 0.00045"
   ]
  },
  {
   "cell_type": "code",
   "execution_count": 64,
   "metadata": {
    "collapsed": true
   },
   "outputs": [],
   "source": [
    "def convert_value(x):\n",
    "    value = x[3]\n",
    "    old_unit = x[2]\n",
    "    new_unit = dvr[dvr['Nutrient'] == x[1]]['Unit'].values[0]\n",
    "    if old_unit == new_unit:\n",
    "        return value\n",
    "    if old_unit == 'micrograms (µg)':\n",
    "        value = value*10**-6\n",
    "    if new_unit == 'micrograms (µg)':\n",
    "        return value*10**6\n",
    "    elif new_unit == 'milligrams (mg)':\n",
    "        return value*10**3\n",
    "    return value\n",
    "\n",
    "def convert_unit(x):\n",
    "    return dvr[dvr['Nutrient'] == x[1]]['Unit'].values[0]"
   ]
  },
  {
   "cell_type": "code",
   "execution_count": 65,
   "metadata": {
    "collapsed": true
   },
   "outputs": [],
   "source": [
    "df['Value'] = df.apply(convert_value, axis=1)"
   ]
  },
  {
   "cell_type": "code",
   "execution_count": 66,
   "metadata": {
    "collapsed": true
   },
   "outputs": [],
   "source": [
    "df['Unit'] = df.apply(convert_unit, axis=1)"
   ]
  },
  {
   "cell_type": "markdown",
   "metadata": {},
   "source": [
    "Now the units completly match between the two data frames and we can just use a more convenient index :"
   ]
  },
  {
   "cell_type": "code",
   "execution_count": 67,
   "metadata": {
    "collapsed": true
   },
   "outputs": [],
   "source": [
    "df.set_index(['recipe_id', 'Nutrient'], inplace=True)\n",
    "\n",
    "print('Is the new index unique : ' + str(df.index.is_unique))\n",
    "\n",
    "df.head()"
   ]
  },
  {
   "cell_type": "markdown",
   "metadata": {},
   "source": [
    "Some computations are long so we save it in a file :"
   ]
  },
  {
   "cell_type": "code",
   "execution_count": 68,
   "metadata": {
    "collapsed": true
   },
   "outputs": [],
   "source": [
    "df.to_csv('nutrition_cleaned.csv', encoding='utf-16')"
   ]
  },
  {
   "cell_type": "markdown",
   "metadata": {},
   "source": [
    "## Visualization\n",
    "\n",
    "We would like from the cleaned data we have now to plot graphs helping to see in what proportions the nutrients are compared to the daily value reference. We also would like to have a way to evaluate how healthy some food is. The following link gives an example of what kind of visualization we would like to get for any recipe : https://www.yummly.com/#recipe/Roasted-Garlic-Mashed-Potatoes-2258492. At the moment, our visualization are basic and will be improved in the future."
   ]
  },
  {
   "cell_type": "code",
   "execution_count": 79,
   "metadata": {
    "collapsed": true
   },
   "outputs": [],
   "source": [
    "df = pd.read_csv('nutrition_cleaned.csv', index_col=['recipe_id', 'Nutrient'], encoding='utf-16')"
   ]
  },
  {
   "cell_type": "code",
   "execution_count": 80,
   "metadata": {
    "collapsed": true
   },
   "outputs": [],
   "source": [
    "import seaborn as sns\n",
    "import matplotlib.pyplot as plt\n",
    "%matplotlib inline"
   ]
  },
  {
   "cell_type": "markdown",
   "metadata": {},
   "source": [
    "The function **plot_recipe_nutrients** takes in parameters a recipe id or a list of recipe ids and a nutrient (or a list) and plots the percentages corresponding to the quantity of nutrients in the list of recipes compared to the daily value references."
   ]
  },
  {
   "cell_type": "code",
   "execution_count": 81,
   "metadata": {
    "collapsed": true
   },
   "outputs": [],
   "source": [
    "def plot_recipe_nutrients(recipe_id, nutrients=['Total carbohydrate', 'Protein', 'Total fat', 'Saturated fatty acids', 'Vitamin C']):\n",
    "    if not isinstance(recipe_id, list):\n",
    "        recipe_id = [recipe_id]\n",
    "    if not isinstance(nutrients, list):\n",
    "        nutrients = [nutrients]\n",
    "    toplot = df.loc[recipe_id[0]].copy()\n",
    "    for x in recipe_id[1:]:\n",
    "        toplot.loc[:, 'Value'] = toplot['Value'] + df.loc[x]['Value']\n",
    "    toplot = toplot.loc[toplot.index.isin(nutrients)]\n",
    "    toplot = toplot.reset_index()\n",
    "    toplot['Value'] = toplot.apply(lambda x: 100*x[2]/dvr[dvr['Nutrient'] == x[0]]['Value'].values[0], axis=1)\n",
    "    sns.barplot(x='Nutrient', y='Value', data=toplot)"
   ]
  },
  {
   "cell_type": "code",
   "execution_count": 82,
   "metadata": {
    "collapsed": true
   },
   "outputs": [],
   "source": [
    "recipe_id1 = recipe_id\n",
    "recipe_id2 = 'Filipino-bbq-pork-skewers-352163'\n",
    "recipe_id3 = 'Mexican-Hot-Chocolate-Doughnuts-501510'\n",
    "recipe_id4 = 'Thai-Curry-Burrito-Bowl-with-Sweet-and-Spicy-Tofu-1187133'\n",
    "\n",
    "recipes = [recipe_id2, recipe_id3]\n",
    "nutrients = ['Total fat', 'Zinc', 'Copper']"
   ]
  },
  {
   "cell_type": "code",
   "execution_count": 83,
   "metadata": {
    "collapsed": false,
    "scrolled": true
   },
   "outputs": [
    {
     "data": {
      "image/png": "[encoded data removed]",
      "text/plain": [
       "<matplotlib.figure.Figure at 0x11eab4128>"
      ]
     },
     "metadata": {},
     "output_type": "display_data"
    }
   ],
   "source": [
    "plot_recipe_nutrients(recipes)"
   ]
  },
  {
   "cell_type": "markdown",
   "metadata": {},
   "source": [
    "## Evaluating the healthiness of a recipe\n",
    "\n",
    "There are different ways to measure how healthy some food is and none of them is perfect. There is for example the nutritional score explained here https://fr.blog.openfoodfacts.org/news/decouvrez-les-notes-nutritionnelles-de-5-couleurs-a-b-c-d-e-pour-10-000-produits-alimentaires-francais-sur-open-food-facts and here https://fr.openfoodfacts.org/score-nutritionnel-experimental-france (in french). A score is calculated for each meal based on the nutrients and then a letter from A (good) to E (bad) is given. The advantage is that it's very easy to understand for a customer who has no knowledge in nutrition.\n",
    "\n",
    "We would also like to normalize the weight of the recipes : it is unfair to compare recipes which don't have the same weight because the weighlier it is, the more unhealthy they will seem. More of the weight of each recipe is contained in the water, in the carbohydrates, in the proteins, in the lipids, in the fibers, or in the ash."
   ]
  },
  {
   "cell_type": "markdown",
   "metadata": {},
   "source": [
    "The following link https://www.ncbi.nlm.nih.gov/pmc/articles/PMC5304340/ details other methods to measure the healthiness of a recipe. We will compare the methods, try to find other ones, and present the results during the next milestone."
   ]
  },
  {
   "cell_type": "markdown",
   "metadata": {},
   "source": [
    "# Cuisine similarity analysis\n",
    "\n",
    "For this part we will be using the dataset on recipes, **recipes.csv**. In order to discover cuisine similarities we will need to explore the ingredients of each recipe and try to connect them with different cuisines. The dificulty we will have to face in this part of the project is the format of ingredients given in our dataset. There are a lot of specific stopwords for recipes like measures and the description of ingredients like dry, trim, mixed, so we will need to deal with them approprietly to have the correct calculations per cuisine. "
   ]
  },
  {
   "cell_type": "markdown",
   "metadata": {},
   "source": [
    "## Exploring the data\n",
    "\n",
    "We've already discovered there are some duplicates in our dataset that came from the original Yummly28k dataset, so in order to clean it we will have to drop duplicates."
   ]
  },
  {
   "cell_type": "code",
   "execution_count": 84,
   "metadata": {
    "collapsed": false
   },
   "outputs": [
    {
     "data": {
      "text/html": [
       "<div>\n",
       "<style>\n",
       "    .dataframe thead tr:only-child th {\n",
       "        text-align: right;\n",
       "    }\n",
       "\n",
       "    .dataframe thead th {\n",
       "        text-align: left;\n",
       "    }\n",
       "\n",
       "    .dataframe tbody tr th {\n",
       "        vertical-align: top;\n",
       "    }\n",
       "</style>\n",
       "<table border=\"1\" class=\"dataframe\">\n",
       "  <thead>\n",
       "    <tr style=\"text-align: right;\">\n",
       "      <th></th>\n",
       "      <th>name</th>\n",
       "      <th>totalTime</th>\n",
       "      <th>course</th>\n",
       "      <th>cuisine</th>\n",
       "      <th>ingredients</th>\n",
       "    </tr>\n",
       "    <tr>\n",
       "      <th>recipe_id</th>\n",
       "      <th></th>\n",
       "      <th></th>\n",
       "      <th></th>\n",
       "      <th></th>\n",
       "      <th></th>\n",
       "    </tr>\n",
       "  </thead>\n",
       "  <tbody>\n",
       "    <tr>\n",
       "      <th>Mushroom-risotto-352492</th>\n",
       "      <td>Mushroom Risotto</td>\n",
       "      <td>1800.0</td>\n",
       "      <td>Side Dishes</td>\n",
       "      <td>Italian</td>\n",
       "      <td>['2 cups Baby Bella mushrooms, sliced', '2 cup...</td>\n",
       "    </tr>\n",
       "    <tr>\n",
       "      <th>Filipino-bbq-pork-skewers-352163</th>\n",
       "      <td>Filipino BBQ Pork Skewers</td>\n",
       "      <td>2400.0</td>\n",
       "      <td>Main Dishes</td>\n",
       "      <td>Barbecue</td>\n",
       "      <td>['2.5 lb pork country style ribs, all fat trim...</td>\n",
       "    </tr>\n",
       "    <tr>\n",
       "      <th>Mushroom-and-Roasted-Garlic-Risotto-525026</th>\n",
       "      <td>Mushroom and Roasted Garlic Risotto</td>\n",
       "      <td>5100.0</td>\n",
       "      <td>Main Dishes</td>\n",
       "      <td>Italian</td>\n",
       "      <td>['2 whole garlic heads', '2 tablespoons plus 2...</td>\n",
       "    </tr>\n",
       "    <tr>\n",
       "      <th>Gratin-Dauphinois-_scalloped-Potatoes-With-Cheese_-My-Recipes</th>\n",
       "      <td>Gratin Dauphinois (Scalloped Potatoes with Che...</td>\n",
       "      <td>3300.0</td>\n",
       "      <td>Side Dishes</td>\n",
       "      <td>French</td>\n",
       "      <td>['1 garlic clove, halved', 'Cooking spray', '6...</td>\n",
       "    </tr>\n",
       "    <tr>\n",
       "      <th>Delicious-Grilled-Hamburgers-Allrecipes</th>\n",
       "      <td>Delicious Grilled Hamburgers</td>\n",
       "      <td>900.0</td>\n",
       "      <td>Main Dishes</td>\n",
       "      <td>Barbecue</td>\n",
       "      <td>['1 pound lean ground beef', '1 tablespoon Wor...</td>\n",
       "    </tr>\n",
       "  </tbody>\n",
       "</table>\n",
       "</div>"
      ],
      "text/plain": [
       "                                                                                                 name  \\\n",
       "recipe_id                                                                                               \n",
       "Mushroom-risotto-352492                                                              Mushroom Risotto   \n",
       "Filipino-bbq-pork-skewers-352163                                            Filipino BBQ Pork Skewers   \n",
       "Mushroom-and-Roasted-Garlic-Risotto-525026                        Mushroom and Roasted Garlic Risotto   \n",
       "Gratin-Dauphinois-_scalloped-Potatoes-With-Chee...  Gratin Dauphinois (Scalloped Potatoes with Che...   \n",
       "Delicious-Grilled-Hamburgers-Allrecipes                                  Delicious Grilled Hamburgers   \n",
       "\n",
       "                                                    totalTime       course  \\\n",
       "recipe_id                                                                    \n",
       "Mushroom-risotto-352492                                1800.0  Side Dishes   \n",
       "Filipino-bbq-pork-skewers-352163                       2400.0  Main Dishes   \n",
       "Mushroom-and-Roasted-Garlic-Risotto-525026             5100.0  Main Dishes   \n",
       "Gratin-Dauphinois-_scalloped-Potatoes-With-Chee...     3300.0  Side Dishes   \n",
       "Delicious-Grilled-Hamburgers-Allrecipes                 900.0  Main Dishes   \n",
       "\n",
       "                                                     cuisine  \\\n",
       "recipe_id                                                      \n",
       "Mushroom-risotto-352492                              Italian   \n",
       "Filipino-bbq-pork-skewers-352163                    Barbecue   \n",
       "Mushroom-and-Roasted-Garlic-Risotto-525026           Italian   \n",
       "Gratin-Dauphinois-_scalloped-Potatoes-With-Chee...    French   \n",
       "Delicious-Grilled-Hamburgers-Allrecipes             Barbecue   \n",
       "\n",
       "                                                                                          ingredients  \n",
       "recipe_id                                                                                              \n",
       "Mushroom-risotto-352492                             ['2 cups Baby Bella mushrooms, sliced', '2 cup...  \n",
       "Filipino-bbq-pork-skewers-352163                    ['2.5 lb pork country style ribs, all fat trim...  \n",
       "Mushroom-and-Roasted-Garlic-Risotto-525026          ['2 whole garlic heads', '2 tablespoons plus 2...  \n",
       "Gratin-Dauphinois-_scalloped-Potatoes-With-Chee...  ['1 garlic clove, halved', 'Cooking spray', '6...  \n",
       "Delicious-Grilled-Hamburgers-Allrecipes             ['1 pound lean ground beef', '1 tablespoon Wor...  "
      ]
     },
     "execution_count": 84,
     "metadata": {},
     "output_type": "execute_result"
    }
   ],
   "source": [
    "recipes = pd.read_csv('recipes.csv', index_col='recipe_id')\n",
    "recipes.head()"
   ]
  },
  {
   "cell_type": "code",
   "execution_count": 85,
   "metadata": {
    "collapsed": false
   },
   "outputs": [
    {
     "data": {
      "text/plain": [
       "False"
      ]
     },
     "execution_count": 85,
     "metadata": {},
     "output_type": "execute_result"
    }
   ],
   "source": [
    "recipes.index.is_unique"
   ]
  },
  {
   "cell_type": "code",
   "execution_count": 86,
   "metadata": {
    "collapsed": false
   },
   "outputs": [
    {
     "data": {
      "text/plain": [
       "True"
      ]
     },
     "execution_count": 86,
     "metadata": {},
     "output_type": "execute_result"
    }
   ],
   "source": [
    "recipes = recipes.drop_duplicates()\n",
    "recipes.index.is_unique"
   ]
  },
  {
   "cell_type": "markdown",
   "metadata": {},
   "source": [
    "Our data is mainly in string format, except of the totalTime column that has numerical values. Let's check if there are any null values."
   ]
  },
  {
   "cell_type": "code",
   "execution_count": 87,
   "metadata": {
    "collapsed": false,
    "scrolled": false
   },
   "outputs": [
    {
     "name": "stdout",
     "output_type": "stream",
     "text": [
      "<class 'pandas.core.frame.DataFrame'>\n",
      "Index: 27337 entries, Mushroom-risotto-352492 to Thai-Curry-Burrito-Bowl-with-Sweet-and-Spicy-Tofu-1187133\n",
      "Data columns (total 5 columns):\n",
      "name           27337 non-null object\n",
      "totalTime      23565 non-null float64\n",
      "course         27337 non-null object\n",
      "cuisine        27337 non-null object\n",
      "ingredients    27337 non-null object\n",
      "dtypes: float64(1), object(4)\n",
      "memory usage: 2.5+ MB\n"
     ]
    }
   ],
   "source": [
    "recipes.info()"
   ]
  },
  {
   "cell_type": "code",
   "execution_count": 88,
   "metadata": {
    "collapsed": false,
    "scrolled": true
   },
   "outputs": [
    {
     "data": {
      "text/plain": [
       "name              0\n",
       "totalTime      3772\n",
       "course            0\n",
       "cuisine           0\n",
       "ingredients       0\n",
       "dtype: int64"
      ]
     },
     "execution_count": 88,
     "metadata": {},
     "output_type": "execute_result"
    }
   ],
   "source": [
    "recipes.isnull().sum()"
   ]
  },
  {
   "cell_type": "markdown",
   "metadata": {},
   "source": [
    "We observe that the only null values are present in the totalTime columns. This could be because some of the recipes don't provide the estimated preparation time. Let's explore it even further."
   ]
  },
  {
   "cell_type": "code",
   "execution_count": 89,
   "metadata": {
    "collapsed": false
   },
   "outputs": [
    {
     "data": {
      "text/plain": [
       "482400.0"
      ]
     },
     "execution_count": 89,
     "metadata": {},
     "output_type": "execute_result"
    }
   ],
   "source": [
    "recipes['totalTime'].max()"
   ]
  },
  {
   "cell_type": "markdown",
   "metadata": {},
   "source": [
    "Here we can observe that the most demanding recipe takes more 5 that days to make. :D We were really interested to discover the most time consuming recipe, and we have also extracted its 'url' from json file, so indeed as mentioned on yummly site https://www.yummly.com/recipe/Grilled-rib-eye-steaks-with-roasted-pepper-salsa-305274, this recipe will take you 6 days to make. But when reading through directions it is clear that this is a mistake, so we should be carefull when analyzing data in our dataset. "
   ]
  },
  {
   "cell_type": "code",
   "execution_count": 90,
   "metadata": {
    "collapsed": false,
    "scrolled": true
   },
   "outputs": [
    {
     "data": {
      "text/html": [
       "<div>\n",
       "<style>\n",
       "    .dataframe thead tr:only-child th {\n",
       "        text-align: right;\n",
       "    }\n",
       "\n",
       "    .dataframe thead th {\n",
       "        text-align: left;\n",
       "    }\n",
       "\n",
       "    .dataframe tbody tr th {\n",
       "        vertical-align: top;\n",
       "    }\n",
       "</style>\n",
       "<table border=\"1\" class=\"dataframe\">\n",
       "  <thead>\n",
       "    <tr style=\"text-align: right;\">\n",
       "      <th></th>\n",
       "      <th>name</th>\n",
       "      <th>totalTime</th>\n",
       "      <th>course</th>\n",
       "      <th>cuisine</th>\n",
       "      <th>ingredients</th>\n",
       "    </tr>\n",
       "    <tr>\n",
       "      <th>recipe_id</th>\n",
       "      <th></th>\n",
       "      <th></th>\n",
       "      <th></th>\n",
       "      <th></th>\n",
       "      <th></th>\n",
       "    </tr>\n",
       "  </thead>\n",
       "  <tbody>\n",
       "    <tr>\n",
       "      <th>Grilled-rib-eye-steaks-with-roasted-pepper-salsa-305274</th>\n",
       "      <td>Grilled Rib-Eye Steaks with Roasted-Pepper Salsa</td>\n",
       "      <td>482400.0</td>\n",
       "      <td>Main Dishes</td>\n",
       "      <td>American</td>\n",
       "      <td>['6 red bell peppers (2 pounds)', '1 to 2 haba...</td>\n",
       "    </tr>\n",
       "  </tbody>\n",
       "</table>\n",
       "</div>"
      ],
      "text/plain": [
       "                                                                                                name  \\\n",
       "recipe_id                                                                                              \n",
       "Grilled-rib-eye-steaks-with-roasted-pepper-sals...  Grilled Rib-Eye Steaks with Roasted-Pepper Salsa   \n",
       "\n",
       "                                                    totalTime       course  \\\n",
       "recipe_id                                                                    \n",
       "Grilled-rib-eye-steaks-with-roasted-pepper-sals...   482400.0  Main Dishes   \n",
       "\n",
       "                                                     cuisine  \\\n",
       "recipe_id                                                      \n",
       "Grilled-rib-eye-steaks-with-roasted-pepper-sals...  American   \n",
       "\n",
       "                                                                                          ingredients  \n",
       "recipe_id                                                                                              \n",
       "Grilled-rib-eye-steaks-with-roasted-pepper-sals...  ['6 red bell peppers (2 pounds)', '1 to 2 haba...  "
      ]
     },
     "execution_count": 90,
     "metadata": {},
     "output_type": "execute_result"
    }
   ],
   "source": [
    "recipes[recipes['totalTime']==recipes['totalTime'].max()]"
   ]
  },
  {
   "cell_type": "markdown",
   "metadata": {},
   "source": [
    "On the other hand, we observe some recipes that require only few minutes to make, so this will come in handy when trying to come up with a menu for modern busy people that don't have so much time to cook. "
   ]
  },
  {
   "cell_type": "code",
   "execution_count": 91,
   "metadata": {
    "collapsed": false
   },
   "outputs": [
    {
     "data": {
      "image/png": "[encoded data removed]",
      "text/plain": [
       "<matplotlib.figure.Figure at 0x120cf3400>"
      ]
     },
     "metadata": {},
     "output_type": "display_data"
    }
   ],
   "source": [
    "np.divide(recipes['totalTime'],60).nsmallest(10).plot(kind='bar')\n",
    "plt.show()"
   ]
  },
  {
   "cell_type": "markdown",
   "metadata": {},
   "source": [
    "Let's explore the cuisine column of our dataset."
   ]
  },
  {
   "cell_type": "code",
   "execution_count": 93,
   "metadata": {
    "collapsed": false
   },
   "outputs": [
    {
     "data": {
      "text/plain": [
       "array(['American', 'Asian', 'Barbecue', 'Cajun & Creole', 'Chinese',\n",
       "       'Cuban', 'English', 'French', 'German', 'Greek', 'Hawaiian',\n",
       "       'Hungarian', 'Indian', 'Irish', 'Italian', 'Japanese',\n",
       "       'Kid-Friendly', 'Mediterranean', 'Mexican', 'Moroccan',\n",
       "       'Portuguese', 'Southern & Soul Food', 'Southwestern', 'Spanish',\n",
       "       'Thai', 'Vietnamese'], dtype=object)"
      ]
     },
     "execution_count": 93,
     "metadata": {},
     "output_type": "execute_result"
    }
   ],
   "source": [
    "train_data = recipes[['cuisine','ingredients']]\n",
    "cuisine_names = np.sort(train_data['cuisine'].unique())\n",
    "cuisine_names"
   ]
  },
  {
   "cell_type": "code",
   "execution_count": 94,
   "metadata": {
    "collapsed": false,
    "scrolled": true
   },
   "outputs": [
    {
     "data": {
      "text/plain": [
       "count        27337\n",
       "unique          26\n",
       "top       American\n",
       "freq         11698\n",
       "Name: cuisine, dtype: object"
      ]
     },
     "execution_count": 94,
     "metadata": {},
     "output_type": "execute_result"
    }
   ],
   "source": [
    "train_data['cuisine'].describe()"
   ]
  },
  {
   "cell_type": "markdown",
   "metadata": {},
   "source": [
    "Here, we see that we have 26 different cuisine types, and the most frequent one is American with 11691 recipes. Let's see the statistics on the rest of them."
   ]
  },
  {
   "cell_type": "code",
   "execution_count": 95,
   "metadata": {
    "collapsed": false,
    "scrolled": true
   },
   "outputs": [
    {
     "data": {
      "text/plain": [
       "American        0.427918\n",
       "Italian         0.163222\n",
       "Mexican         0.121996\n",
       "Asian           0.070344\n",
       "French          0.056444\n",
       "Indian          0.052493\n",
       "Kid-Friendly    0.035007\n",
       "Southwestern    0.021656\n",
       "Thai            0.012547\n",
       "Barbecue        0.012072\n",
       "Name: cuisine, dtype: float64"
      ]
     },
     "execution_count": 95,
     "metadata": {},
     "output_type": "execute_result"
    }
   ],
   "source": [
    "train_data['cuisine'].value_counts(normalize=True,sort=True)[:10]"
   ]
  },
  {
   "cell_type": "markdown",
   "metadata": {},
   "source": [
    "Here we observe that the given train dataset is higly skewed, with a majority of American, Mexican and Asian recipes. We also observe some types of cuisines that are not national cuisines. We want to remove those values in our training data so that we could perform analysis based on different national cuisines around the world."
   ]
  },
  {
   "cell_type": "code",
   "execution_count": 96,
   "metadata": {
    "collapsed": true
   },
   "outputs": [],
   "source": [
    "train_data = train_data[~train_data['cuisine'].isin(['Barbecue','Kid-Friendly','Southern & Soul Food','Cajun & Creole','Southwestern'])]\n"
   ]
  },
  {
   "cell_type": "code",
   "execution_count": 97,
   "metadata": {
    "collapsed": false,
    "scrolled": true
   },
   "outputs": [
    {
     "data": {
      "image/png": "[encoded data removed]",
      "text/plain": [
       "<matplotlib.figure.Figure at 0x120cfe128>"
      ]
     },
     "metadata": {},
     "output_type": "display_data"
    }
   ],
   "source": [
    "train_data['cuisine'].value_counts().plot(kind='bar')\n",
    "import matplotlib.pyplot as plt\n",
    "plt.show()"
   ]
  },
  {
   "cell_type": "markdown",
   "metadata": {},
   "source": [
    "Let’s now take a closer look at the ingredients. We observe the list of ingredients strings which we will have to clean to get a more suitable shape. "
   ]
  },
  {
   "cell_type": "code",
   "execution_count": 98,
   "metadata": {
    "collapsed": false
   },
   "outputs": [
    {
     "data": {
      "text/plain": [
       "recipe_id\n",
       "Mushroom-risotto-352492                                          ['2 cups Baby Bella mushrooms, sliced', '2 cup...\n",
       "Filipino-bbq-pork-skewers-352163                                 ['2.5 lb pork country style ribs, all fat trim...\n",
       "Mushroom-and-Roasted-Garlic-Risotto-525026                       ['2 whole garlic heads', '2 tablespoons plus 2...\n",
       "Gratin-Dauphinois-_scalloped-Potatoes-With-Cheese_-My-Recipes    ['1 garlic clove, halved', 'Cooking spray', '6...\n",
       "Delicious-Grilled-Hamburgers-Allrecipes                          ['1 pound lean ground beef', '1 tablespoon Wor...\n",
       "Name: ingredients, dtype: object"
      ]
     },
     "execution_count": 98,
     "metadata": {},
     "output_type": "execute_result"
    }
   ],
   "source": [
    "recipes['ingredients'].head(5)"
   ]
  },
  {
   "cell_type": "markdown",
   "metadata": {},
   "source": [
    "Since our ingredients columns is a string representation of list of ingredients, by returning the lenght of that list we get the number of ingredients per recipe. "
   ]
  },
  {
   "cell_type": "code",
   "execution_count": 99,
   "metadata": {
    "collapsed": false,
    "scrolled": true
   },
   "outputs": [
    {
     "data": {
      "text/plain": [
       "count    27337.000000\n",
       "mean        11.866518\n",
       "std          5.436082\n",
       "min          3.000000\n",
       "25%          8.000000\n",
       "50%         11.000000\n",
       "75%         15.000000\n",
       "max        123.000000\n",
       "Name: ingredients, dtype: float64"
      ]
     },
     "execution_count": 99,
     "metadata": {},
     "output_type": "execute_result"
    }
   ],
   "source": [
    "import ast\n",
    "recipes['ingredients'].apply(lambda x: len(ast.literal_eval(x))).describe()"
   ]
  },
  {
   "cell_type": "code",
   "execution_count": 100,
   "metadata": {
    "collapsed": false
   },
   "outputs": [
    {
     "data": {
      "text/plain": [
       "array(['Side Dishes', 'Main Dishes', 'Desserts', 'Salads', 'Soups',\n",
       "       'Condiments and Sauces', 'Appetizers', 'Breads', 'Lunch and Snacks',\n",
       "       'Breakfast and Brunch', 'Beverages', 'Cocktails', 'Afternoon Tea'], dtype=object)"
      ]
     },
     "execution_count": 100,
     "metadata": {},
     "output_type": "execute_result"
    }
   ],
   "source": [
    "recipes['course'].unique()"
   ]
  },
  {
   "cell_type": "code",
   "execution_count": 101,
   "metadata": {
    "collapsed": false
   },
   "outputs": [
    {
     "data": {
      "text/plain": [
       "580"
      ]
     },
     "execution_count": 101,
     "metadata": {},
     "output_type": "execute_result"
    }
   ],
   "source": [
    "recipes['course'].str.contains('Breakfast and Brunch').sum()\n"
   ]
  },
  {
   "cell_type": "code",
   "execution_count": 102,
   "metadata": {
    "collapsed": false,
    "scrolled": false
   },
   "outputs": [
    {
     "data": {
      "text/plain": [
       "Main Dishes              13452\n",
       "Desserts                  3187\n",
       "Salads                    2393\n",
       "Side Dishes               2141\n",
       "Soups                     1782\n",
       "Appetizers                1502\n",
       "Condiments and Sauces      828\n",
       "Lunch and Snacks           644\n",
       "Breakfast and Brunch       580\n",
       "Breads                     462\n",
       "Beverages                  250\n",
       "Cocktails                   99\n",
       "Afternoon Tea               17\n",
       "Name: course, dtype: int64"
      ]
     },
     "execution_count": 102,
     "metadata": {},
     "output_type": "execute_result"
    }
   ],
   "source": [
    "recipes['course'].value_counts(sort=True)"
   ]
  },
  {
   "cell_type": "markdown",
   "metadata": {},
   "source": [
    "Here we can observe that the most common dish in our dataset is the main dish. We also have information about dishes that belong to breakfast category. When creating a menu, we can balance different types of dishes to create a menu that has reasonable distribution of nutritions through out the day."
   ]
  },
  {
   "cell_type": "code",
   "execution_count": 103,
   "metadata": {
    "collapsed": false,
    "scrolled": true
   },
   "outputs": [
    {
     "data": {
      "image/png": "[encoded data removed]",
      "text/plain": [
       "<matplotlib.figure.Figure at 0x121320ba8>"
      ]
     },
     "metadata": {},
     "output_type": "display_data"
    }
   ],
   "source": [
    "recipes['course'].value_counts().plot(kind='bar')\n",
    "plt.show()"
   ]
  },
  {
   "cell_type": "markdown",
   "metadata": {},
   "source": [
    "We can find how many recipes contain certain ingredient. This will help us for the next part of the project, when we want to recommend recipes according to different ingredients they have. "
   ]
  },
  {
   "cell_type": "code",
   "execution_count": 104,
   "metadata": {
    "collapsed": false
   },
   "outputs": [
    {
     "data": {
      "text/plain": [
       "1198"
      ]
     },
     "execution_count": 104,
     "metadata": {},
     "output_type": "execute_result"
    }
   ],
   "source": [
    "recipes['ingredients'].str.contains('[Pp]aprika').sum()\n"
   ]
  },
  {
   "cell_type": "markdown",
   "metadata": {},
   "source": [
    "We can even take out the recipe that contains a list of recipes, so our user can choose multiple ingredients and expect a meal that would suit that selection."
   ]
  },
  {
   "cell_type": "code",
   "execution_count": 105,
   "metadata": {
    "collapsed": true
   },
   "outputs": [],
   "source": [
    "spice_list = ['salt', 'pepper', 'oregano', 'sage', 'parsley',\n",
    "                      'rosemary', 'tarragon', 'thyme', 'paprika', 'cumin']"
   ]
  },
  {
   "cell_type": "code",
   "execution_count": 106,
   "metadata": {
    "collapsed": false
   },
   "outputs": [
    {
     "data": {
      "text/html": [
       "<div>\n",
       "<style>\n",
       "    .dataframe thead tr:only-child th {\n",
       "        text-align: right;\n",
       "    }\n",
       "\n",
       "    .dataframe thead th {\n",
       "        text-align: left;\n",
       "    }\n",
       "\n",
       "    .dataframe tbody tr th {\n",
       "        vertical-align: top;\n",
       "    }\n",
       "</style>\n",
       "<table border=\"1\" class=\"dataframe\">\n",
       "  <thead>\n",
       "    <tr style=\"text-align: right;\">\n",
       "      <th></th>\n",
       "      <th>cumin</th>\n",
       "      <th>oregano</th>\n",
       "      <th>paprika</th>\n",
       "      <th>parsley</th>\n",
       "      <th>pepper</th>\n",
       "      <th>rosemary</th>\n",
       "      <th>sage</th>\n",
       "      <th>salt</th>\n",
       "      <th>tarragon</th>\n",
       "      <th>thyme</th>\n",
       "    </tr>\n",
       "    <tr>\n",
       "      <th>recipe_id</th>\n",
       "      <th></th>\n",
       "      <th></th>\n",
       "      <th></th>\n",
       "      <th></th>\n",
       "      <th></th>\n",
       "      <th></th>\n",
       "      <th></th>\n",
       "      <th></th>\n",
       "      <th></th>\n",
       "      <th></th>\n",
       "    </tr>\n",
       "  </thead>\n",
       "  <tbody>\n",
       "    <tr>\n",
       "      <th>Mushroom-risotto-352492</th>\n",
       "      <td>False</td>\n",
       "      <td>False</td>\n",
       "      <td>False</td>\n",
       "      <td>True</td>\n",
       "      <td>True</td>\n",
       "      <td>False</td>\n",
       "      <td>False</td>\n",
       "      <td>True</td>\n",
       "      <td>False</td>\n",
       "      <td>False</td>\n",
       "    </tr>\n",
       "    <tr>\n",
       "      <th>Filipino-bbq-pork-skewers-352163</th>\n",
       "      <td>False</td>\n",
       "      <td>False</td>\n",
       "      <td>False</td>\n",
       "      <td>False</td>\n",
       "      <td>True</td>\n",
       "      <td>False</td>\n",
       "      <td>False</td>\n",
       "      <td>False</td>\n",
       "      <td>False</td>\n",
       "      <td>False</td>\n",
       "    </tr>\n",
       "    <tr>\n",
       "      <th>Mushroom-and-Roasted-Garlic-Risotto-525026</th>\n",
       "      <td>False</td>\n",
       "      <td>False</td>\n",
       "      <td>False</td>\n",
       "      <td>False</td>\n",
       "      <td>True</td>\n",
       "      <td>False</td>\n",
       "      <td>True</td>\n",
       "      <td>True</td>\n",
       "      <td>False</td>\n",
       "      <td>False</td>\n",
       "    </tr>\n",
       "    <tr>\n",
       "      <th>Gratin-Dauphinois-_scalloped-Potatoes-With-Cheese_-My-Recipes</th>\n",
       "      <td>False</td>\n",
       "      <td>False</td>\n",
       "      <td>False</td>\n",
       "      <td>False</td>\n",
       "      <td>True</td>\n",
       "      <td>False</td>\n",
       "      <td>False</td>\n",
       "      <td>True</td>\n",
       "      <td>False</td>\n",
       "      <td>False</td>\n",
       "    </tr>\n",
       "    <tr>\n",
       "      <th>Delicious-Grilled-Hamburgers-Allrecipes</th>\n",
       "      <td>False</td>\n",
       "      <td>False</td>\n",
       "      <td>False</td>\n",
       "      <td>False</td>\n",
       "      <td>False</td>\n",
       "      <td>False</td>\n",
       "      <td>False</td>\n",
       "      <td>True</td>\n",
       "      <td>False</td>\n",
       "      <td>False</td>\n",
       "    </tr>\n",
       "    <tr>\n",
       "      <th>Hickory_smoked-Bourbon-Turkey-My-Recipes</th>\n",
       "      <td>False</td>\n",
       "      <td>False</td>\n",
       "      <td>False</td>\n",
       "      <td>False</td>\n",
       "      <td>True</td>\n",
       "      <td>False</td>\n",
       "      <td>False</td>\n",
       "      <td>True</td>\n",
       "      <td>False</td>\n",
       "      <td>False</td>\n",
       "    </tr>\n",
       "    <tr>\n",
       "      <th>Marinated-Beef-Tenderloin-529856</th>\n",
       "      <td>False</td>\n",
       "      <td>False</td>\n",
       "      <td>False</td>\n",
       "      <td>False</td>\n",
       "      <td>True</td>\n",
       "      <td>False</td>\n",
       "      <td>False</td>\n",
       "      <td>True</td>\n",
       "      <td>False</td>\n",
       "      <td>False</td>\n",
       "    </tr>\n",
       "    <tr>\n",
       "      <th>Cherry-Tortoni-MyRecipes-211679</th>\n",
       "      <td>False</td>\n",
       "      <td>False</td>\n",
       "      <td>False</td>\n",
       "      <td>False</td>\n",
       "      <td>False</td>\n",
       "      <td>False</td>\n",
       "      <td>False</td>\n",
       "      <td>True</td>\n",
       "      <td>False</td>\n",
       "      <td>False</td>\n",
       "    </tr>\n",
       "    <tr>\n",
       "      <th>Crock-Pot-Italian-Turkey-Meatballs-and-Homemade-Sauce-900153</th>\n",
       "      <td>False</td>\n",
       "      <td>True</td>\n",
       "      <td>False</td>\n",
       "      <td>False</td>\n",
       "      <td>True</td>\n",
       "      <td>False</td>\n",
       "      <td>False</td>\n",
       "      <td>True</td>\n",
       "      <td>False</td>\n",
       "      <td>False</td>\n",
       "    </tr>\n",
       "    <tr>\n",
       "      <th>Chicken-salad-with-wild-rice-364571</th>\n",
       "      <td>False</td>\n",
       "      <td>False</td>\n",
       "      <td>False</td>\n",
       "      <td>False</td>\n",
       "      <td>False</td>\n",
       "      <td>False</td>\n",
       "      <td>False</td>\n",
       "      <td>False</td>\n",
       "      <td>False</td>\n",
       "      <td>False</td>\n",
       "    </tr>\n",
       "  </tbody>\n",
       "</table>\n",
       "</div>"
      ],
      "text/plain": [
       "                                                    cumin  oregano  paprika  \\\n",
       "recipe_id                                                                     \n",
       "Mushroom-risotto-352492                             False    False    False   \n",
       "Filipino-bbq-pork-skewers-352163                    False    False    False   \n",
       "Mushroom-and-Roasted-Garlic-Risotto-525026          False    False    False   \n",
       "Gratin-Dauphinois-_scalloped-Potatoes-With-Chee...  False    False    False   \n",
       "Delicious-Grilled-Hamburgers-Allrecipes             False    False    False   \n",
       "Hickory_smoked-Bourbon-Turkey-My-Recipes            False    False    False   \n",
       "Marinated-Beef-Tenderloin-529856                    False    False    False   \n",
       "Cherry-Tortoni-MyRecipes-211679                     False    False    False   \n",
       "Crock-Pot-Italian-Turkey-Meatballs-and-Homemade...  False     True    False   \n",
       "Chicken-salad-with-wild-rice-364571                 False    False    False   \n",
       "\n",
       "                                                    parsley  pepper  rosemary  \\\n",
       "recipe_id                                                                       \n",
       "Mushroom-risotto-352492                                True    True     False   \n",
       "Filipino-bbq-pork-skewers-352163                      False    True     False   \n",
       "Mushroom-and-Roasted-Garlic-Risotto-525026            False    True     False   \n",
       "Gratin-Dauphinois-_scalloped-Potatoes-With-Chee...    False    True     False   \n",
       "Delicious-Grilled-Hamburgers-Allrecipes               False   False     False   \n",
       "Hickory_smoked-Bourbon-Turkey-My-Recipes              False    True     False   \n",
       "Marinated-Beef-Tenderloin-529856                      False    True     False   \n",
       "Cherry-Tortoni-MyRecipes-211679                       False   False     False   \n",
       "Crock-Pot-Italian-Turkey-Meatballs-and-Homemade...    False    True     False   \n",
       "Chicken-salad-with-wild-rice-364571                   False   False     False   \n",
       "\n",
       "                                                     sage   salt  tarragon  \\\n",
       "recipe_id                                                                    \n",
       "Mushroom-risotto-352492                             False   True     False   \n",
       "Filipino-bbq-pork-skewers-352163                    False  False     False   \n",
       "Mushroom-and-Roasted-Garlic-Risotto-525026           True   True     False   \n",
       "Gratin-Dauphinois-_scalloped-Potatoes-With-Chee...  False   True     False   \n",
       "Delicious-Grilled-Hamburgers-Allrecipes             False   True     False   \n",
       "Hickory_smoked-Bourbon-Turkey-My-Recipes            False   True     False   \n",
       "Marinated-Beef-Tenderloin-529856                    False   True     False   \n",
       "Cherry-Tortoni-MyRecipes-211679                     False   True     False   \n",
       "Crock-Pot-Italian-Turkey-Meatballs-and-Homemade...  False   True     False   \n",
       "Chicken-salad-with-wild-rice-364571                 False  False     False   \n",
       "\n",
       "                                                    thyme  \n",
       "recipe_id                                                  \n",
       "Mushroom-risotto-352492                             False  \n",
       "Filipino-bbq-pork-skewers-352163                    False  \n",
       "Mushroom-and-Roasted-Garlic-Risotto-525026          False  \n",
       "Gratin-Dauphinois-_scalloped-Potatoes-With-Chee...  False  \n",
       "Delicious-Grilled-Hamburgers-Allrecipes             False  \n",
       "Hickory_smoked-Bourbon-Turkey-My-Recipes            False  \n",
       "Marinated-Beef-Tenderloin-529856                    False  \n",
       "Cherry-Tortoni-MyRecipes-211679                     False  \n",
       "Crock-Pot-Italian-Turkey-Meatballs-and-Homemade...  False  \n",
       "Chicken-salad-with-wild-rice-364571                 False  "
      ]
     },
     "execution_count": 106,
     "metadata": {},
     "output_type": "execute_result"
    }
   ],
   "source": [
    "import re\n",
    "spice_df = pd.DataFrame(\n",
    "           dict((spice, recipes.ingredients.str.contains(spice, re.IGNORECASE))\n",
    "                                                        for spice in spice_list))\n",
    "spice_df.head(10)\n"
   ]
  },
  {
   "cell_type": "code",
   "execution_count": 107,
   "metadata": {
    "collapsed": false
   },
   "outputs": [
    {
     "data": {
      "text/html": [
       "<div>\n",
       "<style>\n",
       "    .dataframe thead tr:only-child th {\n",
       "        text-align: right;\n",
       "    }\n",
       "\n",
       "    .dataframe thead th {\n",
       "        text-align: left;\n",
       "    }\n",
       "\n",
       "    .dataframe tbody tr th {\n",
       "        vertical-align: top;\n",
       "    }\n",
       "</style>\n",
       "<table border=\"1\" class=\"dataframe\">\n",
       "  <thead>\n",
       "    <tr style=\"text-align: right;\">\n",
       "      <th></th>\n",
       "      <th>cumin</th>\n",
       "      <th>oregano</th>\n",
       "      <th>paprika</th>\n",
       "      <th>parsley</th>\n",
       "      <th>pepper</th>\n",
       "      <th>rosemary</th>\n",
       "      <th>sage</th>\n",
       "      <th>salt</th>\n",
       "      <th>tarragon</th>\n",
       "      <th>thyme</th>\n",
       "    </tr>\n",
       "    <tr>\n",
       "      <th>recipe_id</th>\n",
       "      <th></th>\n",
       "      <th></th>\n",
       "      <th></th>\n",
       "      <th></th>\n",
       "      <th></th>\n",
       "      <th></th>\n",
       "      <th></th>\n",
       "      <th></th>\n",
       "      <th></th>\n",
       "      <th></th>\n",
       "    </tr>\n",
       "  </thead>\n",
       "  <tbody>\n",
       "    <tr>\n",
       "      <th>Smoked-Bluefish-Rillettes-513902</th>\n",
       "      <td>False</td>\n",
       "      <td>False</td>\n",
       "      <td>True</td>\n",
       "      <td>True</td>\n",
       "      <td>False</td>\n",
       "      <td>False</td>\n",
       "      <td>False</td>\n",
       "      <td>True</td>\n",
       "      <td>True</td>\n",
       "      <td>True</td>\n",
       "    </tr>\n",
       "    <tr>\n",
       "      <th>Nicoise-Eggs-628216</th>\n",
       "      <td>True</td>\n",
       "      <td>False</td>\n",
       "      <td>True</td>\n",
       "      <td>True</td>\n",
       "      <td>True</td>\n",
       "      <td>False</td>\n",
       "      <td>False</td>\n",
       "      <td>True</td>\n",
       "      <td>True</td>\n",
       "      <td>False</td>\n",
       "    </tr>\n",
       "    <tr>\n",
       "      <th>Bouillabaisse-Martha-Stewart-197529</th>\n",
       "      <td>True</td>\n",
       "      <td>False</td>\n",
       "      <td>True</td>\n",
       "      <td>True</td>\n",
       "      <td>True</td>\n",
       "      <td>False</td>\n",
       "      <td>False</td>\n",
       "      <td>True</td>\n",
       "      <td>True</td>\n",
       "      <td>False</td>\n",
       "    </tr>\n",
       "    <tr>\n",
       "      <th>Buttermilk-Fried-Chicken-Simply-Recipes-43147</th>\n",
       "      <td>False</td>\n",
       "      <td>False</td>\n",
       "      <td>True</td>\n",
       "      <td>True</td>\n",
       "      <td>True</td>\n",
       "      <td>False</td>\n",
       "      <td>False</td>\n",
       "      <td>True</td>\n",
       "      <td>True</td>\n",
       "      <td>True</td>\n",
       "    </tr>\n",
       "    <tr>\n",
       "      <th>Bouillabaisse-Martha-Stewart-193677</th>\n",
       "      <td>True</td>\n",
       "      <td>False</td>\n",
       "      <td>True</td>\n",
       "      <td>True</td>\n",
       "      <td>True</td>\n",
       "      <td>False</td>\n",
       "      <td>False</td>\n",
       "      <td>True</td>\n",
       "      <td>True</td>\n",
       "      <td>False</td>\n",
       "    </tr>\n",
       "  </tbody>\n",
       "</table>\n",
       "</div>"
      ],
      "text/plain": [
       "                                               cumin  oregano  paprika  \\\n",
       "recipe_id                                                                \n",
       "Smoked-Bluefish-Rillettes-513902               False    False     True   \n",
       "Nicoise-Eggs-628216                             True    False     True   \n",
       "Bouillabaisse-Martha-Stewart-197529             True    False     True   \n",
       "Buttermilk-Fried-Chicken-Simply-Recipes-43147  False    False     True   \n",
       "Bouillabaisse-Martha-Stewart-193677             True    False     True   \n",
       "\n",
       "                                               parsley  pepper  rosemary  \\\n",
       "recipe_id                                                                  \n",
       "Smoked-Bluefish-Rillettes-513902                  True   False     False   \n",
       "Nicoise-Eggs-628216                               True    True     False   \n",
       "Bouillabaisse-Martha-Stewart-197529               True    True     False   \n",
       "Buttermilk-Fried-Chicken-Simply-Recipes-43147     True    True     False   \n",
       "Bouillabaisse-Martha-Stewart-193677               True    True     False   \n",
       "\n",
       "                                                sage  salt  tarragon  thyme  \n",
       "recipe_id                                                                    \n",
       "Smoked-Bluefish-Rillettes-513902               False  True      True   True  \n",
       "Nicoise-Eggs-628216                            False  True      True  False  \n",
       "Bouillabaisse-Martha-Stewart-197529            False  True      True  False  \n",
       "Buttermilk-Fried-Chicken-Simply-Recipes-43147  False  True      True   True  \n",
       "Bouillabaisse-Martha-Stewart-193677            False  True      True  False  "
      ]
     },
     "execution_count": 107,
     "metadata": {},
     "output_type": "execute_result"
    }
   ],
   "source": [
    "selection = spice_df.query('parsley & paprika & tarragon')\n",
    "selection\n"
   ]
  },
  {
   "cell_type": "markdown",
   "metadata": {},
   "source": [
    "We found all the recipes that contained our preferable ingredients."
   ]
  },
  {
   "cell_type": "code",
   "execution_count": 108,
   "metadata": {
    "collapsed": false,
    "scrolled": true
   },
   "outputs": [
    {
     "data": {
      "text/plain": [
       "recipe_id\n",
       "Smoked-Bluefish-Rillettes-513902                 Smoked Bluefish Rillettes\n",
       "Nicoise-Eggs-628216                                           Nicoise Eggs\n",
       "Bouillabaisse-Martha-Stewart-197529                          Bouillabaisse\n",
       "Buttermilk-Fried-Chicken-Simply-Recipes-43147     Buttermilk Fried Chicken\n",
       "Bouillabaisse-Martha-Stewart-193677                          Bouillabaisse\n",
       "Name: name, dtype: object"
      ]
     },
     "execution_count": 108,
     "metadata": {},
     "output_type": "execute_result"
    }
   ],
   "source": [
    "recipes['name'][selection.index]"
   ]
  },
  {
   "cell_type": "markdown",
   "metadata": {},
   "source": [
    "## Cleaning data for cuisine similarity analysis \n",
    "\n",
    "In the next part of the project, our goal is to discover the similarity between different cuisines based on the ingredients used for the recipes. This part is mainly focused on textual analysis as the ingredients come in shape of list of strings. In order to get a clear view on recipes and ingredients we need to clean the data by removing numbers, and special stopwords used in kitchen, like measure units and the description of ingredients. "
   ]
  },
  {
   "cell_type": "code",
   "execution_count": 109,
   "metadata": {
    "collapsed": true
   },
   "outputs": [],
   "source": [
    "import nltk"
   ]
  },
  {
   "cell_type": "code",
   "execution_count": 110,
   "metadata": {
    "collapsed": false
   },
   "outputs": [
    {
     "data": {
      "text/plain": [
       "recipe_id\n",
       "Mushroom-risotto-352492                                          ['2 cups Baby Bella mushrooms, sliced', '2 cup...\n",
       "Mushroom-and-Roasted-Garlic-Risotto-525026                       ['2 whole garlic heads', '2 tablespoons plus 2...\n",
       "Gratin-Dauphinois-_scalloped-Potatoes-With-Cheese_-My-Recipes    ['1 garlic clove, halved', 'Cooking spray', '6...\n",
       "Hickory_smoked-Bourbon-Turkey-My-Recipes                         ['1 (11-pound) whole turkey, thawed', '2 cups ...\n",
       "Marinated-Beef-Tenderloin-529856                                 ['1 beef tenderloin (3 pounds; preferably cent...\n",
       "Name: ingredients, dtype: object"
      ]
     },
     "metadata": {},
     "output_type": "display_data"
    }
   ],
   "source": [
    "display(train_data['ingredients'].head(5))"
   ]
  },
  {
   "cell_type": "code",
   "execution_count": 111,
   "metadata": {
    "collapsed": true
   },
   "outputs": [],
   "source": [
    "from nltk.stem import WordNetLemmatizer\n",
    "from collections import Counter\n",
    "from collections import defaultdict\n",
    "stemmer = WordNetLemmatizer()\n",
    "import re\n",
    "\n",
    "\n",
    "def clean_recipe(recipe):\n",
    "    # To lowercase\n",
    "    recipe = recipe.lower()\n",
    "    \n",
    "    def replacing(recipe):\n",
    "        recipe = recipe.replace('&', '').replace('(', '').replace(')','')\n",
    "        recipe = recipe.replace('\\'', '').replace('\\\\', '').replace(',','')\n",
    "        recipe = recipe.replace('.', '').replace('%', '').replace('/','')\n",
    "        recipe = recipe.replace('\"', '').replace('[','').replace(']','')\n",
    "        recipe = recipe.replace('-','').replace(';','').replace(':','')\n",
    "        sep = 'garnishes' \n",
    "        recipe = re.sub(sep, '', recipe)\n",
    "        return recipe\n",
    "\n",
    "    # Replacing characters\n",
    "    recipe = replacing(recipe)\n",
    "\n",
    "    # Remove digits\n",
    "    def test(recipe):\n",
    "        return re.sub(\"\\d+\", \"\", recipe)\n",
    "    recipe = [test(word) for word in recipe.split(' ')]\n",
    "\n",
    "    # Filter empty words\n",
    "    recipe = list(filter(None,recipe))\n",
    "\n",
    "    # Remove stop words\n",
    "    cachedStopWords = set(nltk.corpus.stopwords.words(\"english\"))\n",
    "\n",
    "    #add custom words\n",
    "    cachedStopWords.update(('cup','cups','tablespoon','tablespoons','pound','ounce',\n",
    "                            'unpeeled','juice','fresh','chopped','rinsed','teaspoon','teaspoons','large','green',\n",
    "                           'peeled','halved','thawed','scraped','mixed','whole','medium','softened', 'divided',\n",
    "                            'loosely', 'packed','drained', 'flaked', 'hot', 'cooked','grated','white','sliced',\n",
    "                            'g','cut','ground','preferably','pounds','centercut','silver','skin', 'trimmed','finely',\n",
    "                            'stick', 'unsalted','oz','ounces','freshly','black','½','¼','dry','plus','tsp','tbsp','inch',\n",
    "                            'red','minced','taste','leaves','powder','seeds','diced','sour','lb','coarse','italian','shredded',\n",
    "                           'dried','sauce','small','crushed'))\n",
    "\n",
    "    #remove stop words\n",
    "    recipe = [word for word in recipe if word.strip() not in cachedStopWords]\n",
    "\n",
    "    #Stem ingredients\n",
    "    recipe = [stemmer.lemmatize(ingredient) for ingredient in recipe]\n",
    "\n",
    "    return recipe\n",
    "\n",
    "\n",
    "train_data['ingredients_clean'] = train_data['ingredients'].apply(lambda x: clean_recipe(x))\n",
    "\n",
    "\n",
    "\n"
   ]
  },
  {
   "cell_type": "markdown",
   "metadata": {},
   "source": [
    "We define a function that returns the frequencies of ingredients used in a specific cuisine. For faster results we use the Counter() object from nltk package. This function will give us an overview of $n$ most common ingredients used in a cuisine by default, and in case we want to see all the ingredients and its frequencies we can use the parameter $full$."
   ]
  },
  {
   "cell_type": "code",
   "execution_count": 112,
   "metadata": {
    "collapsed": true
   },
   "outputs": [],
   "source": [
    "def most_common_ingredients(cuisine_type, n=10, full=False):\n",
    "    c = Counter()\n",
    "    for word in train_data[train_data['cuisine']==cuisine_type]['ingredients_clean']:\n",
    "        c.update(word)\n",
    "    if full == True:\n",
    "        return list((c.most_common()))\n",
    "    else:\n",
    "        return list((c.most_common(n)))\n"
   ]
  },
  {
   "cell_type": "code",
   "execution_count": 113,
   "metadata": {
    "collapsed": false
   },
   "outputs": [
    {
     "data": {
      "text/plain": [
       "[('salt', 1532),\n",
       " ('pepper', 1094),\n",
       " ('sugar', 1043),\n",
       " ('butter', 1002),\n",
       " ('egg', 869),\n",
       " ('oil', 654),\n",
       " ('flour', 630),\n",
       " ('olive', 607),\n",
       " ('thyme', 591),\n",
       " ('onion', 563)]"
      ]
     },
     "execution_count": 113,
     "metadata": {},
     "output_type": "execute_result"
    }
   ],
   "source": [
    "most_common_ingredients('French')"
   ]
  },
  {
   "cell_type": "code",
   "execution_count": 114,
   "metadata": {
    "collapsed": false,
    "scrolled": false
   },
   "outputs": [
    {
     "data": {
      "image/png": "[encoded data removed]",
      "text/plain": [
       "<matplotlib.figure.Figure at 0x12149fb38>"
      ]
     },
     "metadata": {},
     "output_type": "display_data"
    }
   ],
   "source": [
    "from PIL import Image\n",
    "import matplotlib.pyplot as plt\n",
    "from wordcloud import WordCloud\n",
    "import random\n",
    "\n",
    "def plot_ingredients_cloud(figure, cuisine):\n",
    "    pan_mask = np.array(Image.open(\"pan.png\"))\n",
    "    def color_func(word, font_size, position, orientation, random_state=None,\n",
    "                        **kwargs):\n",
    "        return \"hsl(180, 100%%, %d%%)\" % random.randint(20, 40)\n",
    "\n",
    "    lots = most_common_ingredients(cuisine,full=True)\n",
    "    wc = WordCloud(background_color=\"white\", color_func=color_func, max_words=15, mask=pan_mask)\n",
    "\n",
    "    # generate word cloud\n",
    "    wc.generate_from_frequencies(frequencies=dict(lots))\n",
    "\n",
    "    # show\n",
    "    fig.suptitle(str.format(\"Most common ingredians in {} cuisine\",cuisine), fontsize=16)\n",
    "\n",
    "    plt.imshow(wc, interpolation=\"bilinear\",alpha=1)\n",
    "    plt.axis(\"off\")\n",
    "    plt.imshow(pan_mask, cmap=plt.cm.gray, interpolation='bilinear',alpha=0.2)\n",
    "    plt.axis(\"off\")\n",
    "    plt.show()\n",
    "\n",
    "fig = plt.figure(figsize=(12, 5))\n",
    "\n",
    "plot_ingredients_cloud(fig,'Italian')\n"
   ]
  },
  {
   "cell_type": "markdown",
   "metadata": {},
   "source": [
    "Our WordCloud containes most common ingredients for a specific cuisine. It is an interesting overview of our dataset."
   ]
  },
  {
   "cell_type": "markdown",
   "metadata": {},
   "source": [
    "In order to find the most similar cuisine, we will take the data on ingredients, and the number of their occurencies in each cuisince, and we will use this as a vector for calculating cosine similarity. "
   ]
  },
  {
   "cell_type": "code",
   "execution_count": 115,
   "metadata": {
    "collapsed": true
   },
   "outputs": [],
   "source": [
    "\n",
    "import math\n",
    "def cosine_sim(a, b):\n",
    "    mutual = set(a).intersection(set(b))\n",
    "    a_serie= pd.Series(list(set(a).intersection(mutual)))\n",
    "    b_serie= pd.Series(list(set(b).intersection(mutual)))\n",
    "    return 1 - cosine(a_serie, b_serie)\n",
    "\n",
    "def cosine_distance(ingredient_freq1,ingredient_freq2):\n",
    "        sumxx, sumxy, sumyy = 0, 0, 0\n",
    "        commonIngredient = False\n",
    "        for key in ingredient_freq1:\n",
    "            if key in ingredient_freq2:\n",
    "                x = ingredient_freq1[key]\n",
    "                y = ingredient_freq2[key]\n",
    "                sumxx += x*x\n",
    "                sumyy += y*y\n",
    "                sumxy += x*y\n",
    "                commonIngredient = True\n",
    "        if commonIngredient: return sumxy/math.sqrt(sumxx*sumyy)\n",
    "        else: return 0\n",
    "\n",
    "def cuisine_similarity(cusine_a, cuisine_b):\n",
    "    d1 = dict(most_common_ingredients(cusine_a,full=True))\n",
    "    d2 = dict(most_common_ingredients(cuisine_b,full=True))\n",
    "    return cosine_distance(d1,d2)\n"
   ]
  },
  {
   "cell_type": "code",
   "execution_count": 116,
   "metadata": {
    "collapsed": false,
    "scrolled": true
   },
   "outputs": [
    {
     "data": {
      "image/png": "[encoded data removed]",
      "text/plain": [
       "<matplotlib.figure.Figure at 0x12149f780>"
      ]
     },
     "metadata": {},
     "output_type": "display_data"
    }
   ],
   "source": [
    "def cuisine_similarity_scores(cuisine_to_compare):\n",
    "    similarity_scores = {}\n",
    "    cuisines = list(train_data['cuisine'].unique())\n",
    "    cuisines.remove(cuisine_to_compare) \n",
    "    for cuisine in cuisines:\n",
    "        similarity_scores.update({cuisine:cuisine_similarity(cuisine_to_compare,cuisine)})\n",
    "    return similarity_scores\n",
    "\n",
    "def plot_cuisine_similarities(cuisine):\n",
    "    \n",
    "    dataframe = pd.DataFrame.from_dict(cuisine_similarity_scores(cuisine), orient='index')\n",
    "    dataframe.columns = ['score']\n",
    "    dataframe.nlargest(10,'score').plot(kind='bar',title = str.format('Cuisine similarity for {} cuisine',cuisine))\n",
    "    plt.show()\n",
    "\n",
    "plot_cuisine_similarities('Mexican')"
   ]
  },
  {
   "cell_type": "markdown",
   "metadata": {},
   "source": [
    "These are the 10 closest cuisines to Mexican. In fact, we could agree that we would expect a similar plot, so the cosine similarity gives a nice interpretation of our data on recipes and cuisines."
   ]
  },
  {
   "cell_type": "markdown",
   "metadata": {},
   "source": [
    "# Next steps\n",
    "\n",
    "Like we already mentioned throughout this notebook, we want to focus on upgrading our recommender with different options, which we plan to include by allowing some interactivity with our recommendation system. We want to allow our users to insert the number of calories they whant in their diet, to select the ingredients they would like to have in their menu. We want to provide recipes by cuisine, taste, courses, or preparation time. We want to explore recipe similarities. We will sort the dishes into according categories based on course type and match the needed nutritional requrements set by the user. For the visualization part, we will include photos of recipes which we have based on our json files. "
   ]
  },
  {
   "cell_type": "code",
   "execution_count": null,
   "metadata": {
    "collapsed": true
   },
   "outputs": [],
   "source": []
  }
 ],
 "metadata": {
  "anaconda-cloud": {},
  "kernelspec": {
   "display_name": "Python [Root]",
   "language": "python",
   "name": "Python [Root]"
  },
  "language_info": {
   "codemirror_mode": {
    "name": "ipython",
    "version": 3
   },
   "file_extension": ".py",
   "mimetype": "text/x-python",
   "name": "python",
   "nbconvert_exporter": "python",
   "pygments_lexer": "ipython3",
   "version": "3.5.2"
  }
 },
 "nbformat": 4,
 "nbformat_minor": 2
}
